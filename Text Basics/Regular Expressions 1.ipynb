{
 "cells": [
  {
   "cell_type": "markdown",
   "id": "b025d05a",
   "metadata": {},
   "source": [
    "Regular Expressions allows for pattern searching in a text document"
   ]
  },
  {
   "cell_type": "markdown",
   "id": "e30f795d",
   "metadata": {},
   "source": [
    "Syntax for searching a phone number\n",
    "> r'\\d{3}-\\d{3}-\\d{4}', where r' - find"
   ]
  },
  {
   "cell_type": "markdown",
   "id": "354881c5",
   "metadata": {},
   "source": [
    "Every character type has a corresponding pattern code"
   ]
  },
  {
   "cell_type": "markdown",
   "id": "e8384dd9",
   "metadata": {},
   "source": [
    "for example, digits have the placeholder pattern code of \\d\n",
    "\n",
    "> digits - \\d"
   ]
  },
  {
   "cell_type": "markdown",
   "id": "cfcd13f1",
   "metadata": {},
   "source": [
    "Backslash allows python to understand that it is a special code and not the letter \"d\"."
   ]
  },
  {
   "cell_type": "code",
   "execution_count": 1,
   "id": "adb8889a",
   "metadata": {},
   "outputs": [],
   "source": [
    "text = \"the phone number of the agent is 408-555-1234. call soon!\""
   ]
  },
  {
   "cell_type": "code",
   "execution_count": 2,
   "id": "57b44e64",
   "metadata": {},
   "outputs": [
    {
     "data": {
      "text/plain": [
       "' the phone number of the agent is 408-555-1234. call soon!'"
      ]
     },
     "execution_count": 2,
     "metadata": {},
     "output_type": "execute_result"
    }
   ],
   "source": [
    "text"
   ]
  },
  {
   "cell_type": "code",
   "execution_count": 3,
   "id": "f92db287",
   "metadata": {},
   "outputs": [
    {
     "data": {
      "text/plain": [
       "True"
      ]
     },
     "execution_count": 3,
     "metadata": {},
     "output_type": "execute_result"
    }
   ],
   "source": [
    "\"phone\" in text"
   ]
  },
  {
   "cell_type": "code",
   "execution_count": 4,
   "id": "ff5ffacc",
   "metadata": {},
   "outputs": [
    {
     "data": {
      "text/plain": [
       "True"
      ]
     },
     "execution_count": 4,
     "metadata": {},
     "output_type": "execute_result"
    }
   ],
   "source": [
    "\"408-555-1234\" in text"
   ]
  },
  {
   "cell_type": "code",
   "execution_count": 5,
   "id": "116b33aa",
   "metadata": {},
   "outputs": [],
   "source": [
    "# regular expression library\n",
    "import re"
   ]
  },
  {
   "cell_type": "code",
   "execution_count": 6,
   "id": "1a98c212",
   "metadata": {},
   "outputs": [],
   "source": [
    "pattern = \"phone\""
   ]
  },
  {
   "cell_type": "code",
   "execution_count": 7,
   "id": "7c6a102d",
   "metadata": {},
   "outputs": [
    {
     "data": {
      "text/plain": [
       "<re.Match object; span=(5, 10), match='phone'>"
      ]
     },
     "execution_count": 7,
     "metadata": {},
     "output_type": "execute_result"
    }
   ],
   "source": [
    "re.search(pattern,text)"
   ]
  },
  {
   "cell_type": "code",
   "execution_count": 8,
   "id": "d040531a",
   "metadata": {},
   "outputs": [],
   "source": [
    "my_match = re.search(pattern,text)"
   ]
  },
  {
   "cell_type": "code",
   "execution_count": 9,
   "id": "02bbb612",
   "metadata": {},
   "outputs": [
    {
     "data": {
      "text/plain": [
       "(5, 10)"
      ]
     },
     "execution_count": 9,
     "metadata": {},
     "output_type": "execute_result"
    }
   ],
   "source": [
    "my_match.span()"
   ]
  },
  {
   "cell_type": "code",
   "execution_count": 10,
   "id": "08dcceef",
   "metadata": {},
   "outputs": [
    {
     "data": {
      "text/plain": [
       "10"
      ]
     },
     "execution_count": 10,
     "metadata": {},
     "output_type": "execute_result"
    }
   ],
   "source": [
    "my_match.end()"
   ]
  },
  {
   "cell_type": "code",
   "execution_count": 11,
   "id": "23c57914",
   "metadata": {},
   "outputs": [],
   "source": [
    "text3 = \"my phone is a new phone\""
   ]
  },
  {
   "cell_type": "code",
   "execution_count": 19,
   "id": "73d3b36d",
   "metadata": {},
   "outputs": [],
   "source": [
    "# search - returns the first match (one instance)\n",
    "match = re.search(pattern,text3)"
   ]
  },
  {
   "cell_type": "code",
   "execution_count": 14,
   "id": "362580de",
   "metadata": {},
   "outputs": [
    {
     "data": {
      "text/plain": [
       "(3, 8)"
      ]
     },
     "execution_count": 14,
     "metadata": {},
     "output_type": "execute_result"
    }
   ],
   "source": [
    "# only the first instance match is taken\n",
    "match.span()"
   ]
  },
  {
   "cell_type": "code",
   "execution_count": 16,
   "id": "2e8c15bc",
   "metadata": {},
   "outputs": [],
   "source": [
    "# findall - more than one search\n",
    "all_matches = re.findall(\"phone\",text3)"
   ]
  },
  {
   "cell_type": "code",
   "execution_count": 17,
   "id": "c9891806",
   "metadata": {},
   "outputs": [
    {
     "data": {
      "text/plain": [
       "2"
      ]
     },
     "execution_count": 17,
     "metadata": {},
     "output_type": "execute_result"
    }
   ],
   "source": [
    "len(all_matches)"
   ]
  },
  {
   "cell_type": "code",
   "execution_count": 18,
   "id": "a4676fb3",
   "metadata": {},
   "outputs": [
    {
     "name": "stdout",
     "output_type": "stream",
     "text": [
      "(3, 8)\n",
      "(18, 23)\n"
     ]
    }
   ],
   "source": [
    "# iter - iterate through the matches\n",
    "for match in re.finditer(\"phone\",text3):\n",
    "    print(match.span())\n",
    "    \n",
    "#text2 - variable to which the text is assigned\n",
    "\"phone\" - the pattern to be searched"
   ]
  },
  {
   "cell_type": "code",
   "execution_count": 48,
   "id": "732159a0",
   "metadata": {},
   "outputs": [
    {
     "data": {
      "text/plain": [
       "'hello my name is alex'"
      ]
     },
     "execution_count": 48,
     "metadata": {},
     "output_type": "execute_result"
    }
   ],
   "source": [
    "text"
   ]
  },
  {
   "cell_type": "code",
   "execution_count": 49,
   "id": "39e0dff6",
   "metadata": {},
   "outputs": [],
   "source": [
    "# looking for digits with re\n",
    "text = \"the phone number of the agent is 408-555-1234. call soon!\""
   ]
  },
  {
   "cell_type": "code",
   "execution_count": 50,
   "id": "2be97985",
   "metadata": {},
   "outputs": [],
   "source": [
    "pattern = r'\\d\\d\\d-\\d\\d\\d-\\d\\d\\d\\d'"
   ]
  },
  {
   "cell_type": "code",
   "execution_count": 51,
   "id": "a3aaa6f8",
   "metadata": {},
   "outputs": [],
   "source": [
    "phone_num = re.search(pattern,text)"
   ]
  },
  {
   "cell_type": "code",
   "execution_count": 57,
   "id": "4d82a89a",
   "metadata": {},
   "outputs": [
    {
     "data": {
      "text/plain": [
       "<re.Match object; span=(33, 45), match='408-555-1234'>"
      ]
     },
     "execution_count": 57,
     "metadata": {},
     "output_type": "execute_result"
    }
   ],
   "source": [
    "phone_num"
   ]
  },
  {
   "cell_type": "code",
   "execution_count": 58,
   "id": "9d3b0aed",
   "metadata": {},
   "outputs": [
    {
     "data": {
      "text/plain": [
       "'408-555-1234'"
      ]
     },
     "execution_count": 58,
     "metadata": {},
     "output_type": "execute_result"
    }
   ],
   "source": [
    "# to group the numbers and print\n",
    "phone_num.group()"
   ]
  },
  {
   "cell_type": "markdown",
   "id": "64da90ab",
   "metadata": {},
   "source": [
    "## Quantifiers"
   ]
  },
  {
   "cell_type": "code",
   "execution_count": 72,
   "id": "ce6cd12e",
   "metadata": {},
   "outputs": [],
   "source": [
    "# {3} - occurs exactly 3 times\n",
    "# {4} - occurs exactly 4 times\n",
    "# {2,4} - occurs 2 to 4 times\n",
    "pattern = r'\\d{3}-\\d{3}-\\d{4}'"
   ]
  },
  {
   "cell_type": "code",
   "execution_count": 64,
   "id": "ab5a4d1b",
   "metadata": {},
   "outputs": [],
   "source": [
    "pnum_quantifiers = re.search(pattern,text)"
   ]
  },
  {
   "cell_type": "code",
   "execution_count": 65,
   "id": "a0e0fb83",
   "metadata": {},
   "outputs": [
    {
     "data": {
      "text/plain": [
       "<re.Match object; span=(33, 45), match='408-555-1234'>"
      ]
     },
     "execution_count": 65,
     "metadata": {},
     "output_type": "execute_result"
    }
   ],
   "source": [
    "pnum_quantifiers"
   ]
  },
  {
   "cell_type": "code",
   "execution_count": 66,
   "id": "e85ea0ae",
   "metadata": {},
   "outputs": [
    {
     "data": {
      "text/plain": [
       "'408-555-1234'"
      ]
     },
     "execution_count": 66,
     "metadata": {},
     "output_type": "execute_result"
    }
   ],
   "source": [
    "pnum_quantifiers.group()"
   ]
  },
  {
   "cell_type": "code",
   "execution_count": 70,
   "id": "94756e62",
   "metadata": {},
   "outputs": [],
   "source": [
    "pattern = r'\\d{2,4}'"
   ]
  },
  {
   "cell_type": "code",
   "execution_count": 71,
   "id": "bfc9e7e6",
   "metadata": {},
   "outputs": [
    {
     "data": {
      "text/plain": [
       "<re.Match object; span=(33, 36), match='408'>"
      ]
     },
     "execution_count": 71,
     "metadata": {},
     "output_type": "execute_result"
    }
   ],
   "source": [
    "re.search(pattern,text)"
   ]
  },
  {
   "cell_type": "markdown",
   "id": "e55b2630",
   "metadata": {},
   "source": [
    "# Practice"
   ]
  },
  {
   "cell_type": "code",
   "execution_count": 20,
   "id": "93c1649a",
   "metadata": {},
   "outputs": [],
   "source": [
    "text = \"hello! what is your name\""
   ]
  },
  {
   "cell_type": "code",
   "execution_count": 21,
   "id": "f5a546f8",
   "metadata": {},
   "outputs": [
    {
     "data": {
      "text/plain": [
       "True"
      ]
     },
     "execution_count": 21,
     "metadata": {},
     "output_type": "execute_result"
    }
   ],
   "source": [
    "\"name\" in text"
   ]
  },
  {
   "cell_type": "code",
   "execution_count": 22,
   "id": "ba44d590",
   "metadata": {},
   "outputs": [
    {
     "data": {
      "text/plain": [
       "True"
      ]
     },
     "execution_count": 22,
     "metadata": {},
     "output_type": "execute_result"
    }
   ],
   "source": [
    "\"what\" in text"
   ]
  },
  {
   "cell_type": "code",
   "execution_count": 23,
   "id": "984c2a8c",
   "metadata": {},
   "outputs": [],
   "source": [
    "pattern = \"hello!\""
   ]
  },
  {
   "cell_type": "code",
   "execution_count": 26,
   "id": "f0980ca9",
   "metadata": {},
   "outputs": [],
   "source": [
    "srch = re.search(pattern,text)"
   ]
  },
  {
   "cell_type": "code",
   "execution_count": 28,
   "id": "754ed437",
   "metadata": {},
   "outputs": [
    {
     "data": {
      "text/plain": [
       "(0, 6)"
      ]
     },
     "execution_count": 28,
     "metadata": {},
     "output_type": "execute_result"
    }
   ],
   "source": [
    "srch.span()"
   ]
  },
  {
   "cell_type": "code",
   "execution_count": 29,
   "id": "5a978de7",
   "metadata": {},
   "outputs": [],
   "source": [
    "text2 = \"hello world! this world is beautiful\""
   ]
  },
  {
   "cell_type": "code",
   "execution_count": 74,
   "id": "b43edc5c",
   "metadata": {},
   "outputs": [
    {
     "name": "stdout",
     "output_type": "stream",
     "text": [
      "(6, 11)\n",
      "(18, 23)\n"
     ]
    }
   ],
   "source": [
    "for match in re.finditer(\"world\",text2):\n",
    "    print(match.span())"
   ]
  },
  {
   "cell_type": "code",
   "execution_count": 44,
   "id": "22e26a52",
   "metadata": {},
   "outputs": [],
   "source": [
    "# python library for regular expressions\n",
    "import re"
   ]
  },
  {
   "cell_type": "code",
   "execution_count": 45,
   "id": "66886454",
   "metadata": {},
   "outputs": [],
   "source": [
    "text = \"hello my name is alex\""
   ]
  },
  {
   "cell_type": "code",
   "execution_count": 46,
   "id": "fd0e2eaa",
   "metadata": {},
   "outputs": [
    {
     "data": {
      "text/plain": [
       "True"
      ]
     },
     "execution_count": 46,
     "metadata": {},
     "output_type": "execute_result"
    }
   ],
   "source": [
    "\"alex\" in text"
   ]
  },
  {
   "cell_type": "code",
   "execution_count": 47,
   "id": "0dcdc483",
   "metadata": {},
   "outputs": [
    {
     "data": {
      "text/plain": [
       "True"
      ]
     },
     "execution_count": 47,
     "metadata": {},
     "output_type": "execute_result"
    }
   ],
   "source": [
    "\"hello\" in text"
   ]
  },
  {
   "cell_type": "code",
   "execution_count": null,
   "id": "b5ac024e",
   "metadata": {},
   "outputs": [],
   "source": []
  }
 ],
 "metadata": {
  "kernelspec": {
   "display_name": "Python 3 (ipykernel)",
   "language": "python",
   "name": "python3"
  },
  "language_info": {
   "codemirror_mode": {
    "name": "ipython",
    "version": 3
   },
   "file_extension": ".py",
   "mimetype": "text/x-python",
   "name": "python",
   "nbconvert_exporter": "python",
   "pygments_lexer": "ipython3",
   "version": "3.10.9"
  }
 },
 "nbformat": 4,
 "nbformat_minor": 5
}
