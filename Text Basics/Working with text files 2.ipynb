{
 "cells": [
  {
   "cell_type": "markdown",
   "id": "d847cff4",
   "metadata": {},
   "source": [
    "## Creating a text file"
   ]
  },
  {
   "cell_type": "markdown",
   "id": "690fd810",
   "metadata": {},
   "source": [
    "write - %%writefile\n",
    "\n",
    "open - open(\"filename.txt\")\n",
    "\n",
    "close - filename.close() - whenever operations are done close the file\n",
    "\n",
    "read - filename.read()\n",
    "\n",
    "read to a string:\n",
    "string sname = filename.read()\n",
    "\n",
    "print(sname) will take \\n into account\n",
    "print - will print without newline\n",
    "\n",
    "seq: open,write,close,seek,read\n"
   ]
  },
  {
   "cell_type": "code",
   "execution_count": 141,
   "id": "01f3e407",
   "metadata": {},
   "outputs": [
    {
     "name": "stdout",
     "output_type": "stream",
     "text": [
      "Overwriting test.txt\n"
     ]
    }
   ],
   "source": [
    "%%writefile test.txt\n",
    "Hello, this is a quick test file.\n",
    "This is the second line of the file."
   ]
  },
  {
   "cell_type": "code",
   "execution_count": 15,
   "id": "8244bfba",
   "metadata": {},
   "outputs": [],
   "source": [
    "# open - method in python\n",
    "myfile = open('test.txt')"
   ]
  },
  {
   "cell_type": "code",
   "execution_count": 17,
   "id": "3af801bd",
   "metadata": {},
   "outputs": [
    {
     "data": {
      "text/plain": [
       "<_io.TextIOWrapper name='test.txt' mode='r' encoding='cp1252'>"
      ]
     },
     "execution_count": 17,
     "metadata": {},
     "output_type": "execute_result"
    }
   ],
   "source": [
    "myfile #wrapper ready to go for the text file with the read mode "
   ]
  },
  {
   "cell_type": "code",
   "execution_count": 26,
   "id": "75c96e7d",
   "metadata": {},
   "outputs": [
    {
     "data": {
      "text/plain": [
       "'C:\\\\Users\\\\itsme\\\\Desktop\\\\Analytics\\\\natural-language-processing'"
      ]
     },
     "execution_count": 26,
     "metadata": {},
     "output_type": "execute_result"
    }
   ],
   "source": [
    "pwd # single location"
   ]
  },
  {
   "cell_type": "code",
   "execution_count": 29,
   "id": "3f31d410",
   "metadata": {},
   "outputs": [],
   "source": [
    "# by entire path with \\\\; second \\ is an escape character\n",
    "myfile1 = open(\"C:\\\\Users\\\\itsme\\\\Desktop\\\\Analytics\\\\natural-language-processing\\\\test.txt\")"
   ]
  },
  {
   "cell_type": "code",
   "execution_count": 30,
   "id": "139efc58",
   "metadata": {},
   "outputs": [
    {
     "data": {
      "text/plain": [
       "<_io.TextIOWrapper name='C:\\\\Users\\\\itsme\\\\Desktop\\\\Analytics\\\\natural-language-processing\\\\test.txt' mode='r' encoding='cp1252'>"
      ]
     },
     "execution_count": 30,
     "metadata": {},
     "output_type": "execute_result"
    }
   ],
   "source": [
    "myfile1"
   ]
  },
  {
   "cell_type": "markdown",
   "id": "89d430ae",
   "metadata": {},
   "source": [
    "## Reading the file"
   ]
  },
  {
   "cell_type": "code",
   "execution_count": 31,
   "id": "7e299ddc",
   "metadata": {},
   "outputs": [
    {
     "data": {
      "text/plain": [
       "'Hello, this is a quick test file.\\nThis is the second line of the file.\\n'"
      ]
     },
     "execution_count": 31,
     "metadata": {},
     "output_type": "execute_result"
    }
   ],
   "source": [
    "myfile.read()"
   ]
  },
  {
   "cell_type": "code",
   "execution_count": 35,
   "id": "c24d4e81",
   "metadata": {},
   "outputs": [
    {
     "data": {
      "text/plain": [
       "''"
      ]
     },
     "execution_count": 35,
     "metadata": {},
     "output_type": "execute_result"
    }
   ],
   "source": [
    "myfile.read() # read cannot be called multiple times in python; called from the ending ' to the next"
   ]
  },
  {
   "cell_type": "code",
   "execution_count": 36,
   "id": "5c5f1c30",
   "metadata": {},
   "outputs": [
    {
     "data": {
      "text/plain": [
       "0"
      ]
     },
     "execution_count": 36,
     "metadata": {},
     "output_type": "execute_result"
    }
   ],
   "source": [
    "# fix for the read by seeking the cursor to the start\n",
    "myfile.seek(0)"
   ]
  },
  {
   "cell_type": "markdown",
   "id": "4fe38baa",
   "metadata": {},
   "source": [
    "seek is used to reset the cursor to the start for another read"
   ]
  },
  {
   "cell_type": "code",
   "execution_count": 37,
   "id": "9dfc35fc",
   "metadata": {},
   "outputs": [
    {
     "data": {
      "text/plain": [
       "'Hello, this is a quick test file.\\nThis is the second line of the file.\\n'"
      ]
     },
     "execution_count": 37,
     "metadata": {},
     "output_type": "execute_result"
    }
   ],
   "source": [
    "myfile.read()"
   ]
  },
  {
   "cell_type": "code",
   "execution_count": 47,
   "id": "e0e18950",
   "metadata": {},
   "outputs": [
    {
     "data": {
      "text/plain": [
       "0"
      ]
     },
     "execution_count": 47,
     "metadata": {},
     "output_type": "execute_result"
    }
   ],
   "source": [
    "myfile.seek(0)"
   ]
  },
  {
   "cell_type": "code",
   "execution_count": 48,
   "id": "101ada75",
   "metadata": {},
   "outputs": [],
   "source": [
    "content = myfile.read()"
   ]
  },
  {
   "cell_type": "code",
   "execution_count": 50,
   "id": "07eb0a37",
   "metadata": {},
   "outputs": [
    {
     "data": {
      "text/plain": [
       "'Hello, this is a quick test file.\\nThis is the second line of the file.\\n'"
      ]
     },
     "execution_count": 50,
     "metadata": {},
     "output_type": "execute_result"
    }
   ],
   "source": [
    "content"
   ]
  },
  {
   "cell_type": "code",
   "execution_count": 51,
   "id": "1df7c2d6",
   "metadata": {},
   "outputs": [
    {
     "name": "stdout",
     "output_type": "stream",
     "text": [
      "Hello, this is a quick test file.\n",
      "This is the second line of the file.\n",
      "\n"
     ]
    }
   ],
   "source": [
    "print(content)"
   ]
  },
  {
   "cell_type": "code",
   "execution_count": 53,
   "id": "be854b06",
   "metadata": {},
   "outputs": [],
   "source": [
    "# content is now a literal string so seek is not needed"
   ]
  },
  {
   "cell_type": "code",
   "execution_count": 56,
   "id": "aea90660",
   "metadata": {},
   "outputs": [],
   "source": [
    "myfile.close()"
   ]
  },
  {
   "cell_type": "code",
   "execution_count": 61,
   "id": "489d31c2",
   "metadata": {},
   "outputs": [
    {
     "data": {
      "text/plain": [
       "['Hello, this is a quick test file.\\n',\n",
       " 'This is the second line of the file.\\n']"
      ]
     },
     "execution_count": 61,
     "metadata": {},
     "output_type": "execute_result"
    }
   ],
   "source": [
    "# readline - reads seperate lines\n",
    "myfile = open('test.txt')\n",
    "myfile.readlines()"
   ]
  },
  {
   "cell_type": "code",
   "execution_count": 62,
   "id": "ed1de97c",
   "metadata": {},
   "outputs": [
    {
     "data": {
      "text/plain": [
       "0"
      ]
     },
     "execution_count": 62,
     "metadata": {},
     "output_type": "execute_result"
    }
   ],
   "source": [
    "myfile.seek(0)"
   ]
  },
  {
   "cell_type": "code",
   "execution_count": 64,
   "id": "9b4cf6fb",
   "metadata": {},
   "outputs": [],
   "source": [
    "mylines = myfile.readlines()"
   ]
  },
  {
   "cell_type": "code",
   "execution_count": 68,
   "id": "e5df7bc1",
   "metadata": {},
   "outputs": [
    {
     "name": "stdout",
     "output_type": "stream",
     "text": [
      "H\n",
      "T\n"
     ]
    }
   ],
   "source": [
    "for line in mylines:\n",
    "    print(line[0])"
   ]
  },
  {
   "cell_type": "code",
   "execution_count": 69,
   "id": "5289b1e5",
   "metadata": {},
   "outputs": [
    {
     "name": "stdout",
     "output_type": "stream",
     "text": [
      "Hello,\n",
      "This\n"
     ]
    }
   ],
   "source": [
    "for line in mylines:\n",
    "    print(line.split()[0])"
   ]
  },
  {
   "cell_type": "markdown",
   "id": "5dc89334",
   "metadata": {},
   "source": [
    "## Writing to a file"
   ]
  },
  {
   "cell_type": "code",
   "execution_count": 72,
   "id": "c9cf567f",
   "metadata": {},
   "outputs": [],
   "source": [
    "myfile = open(\"test.txt\",'w+') #w+ truncates the file - original file is overwritten"
   ]
  },
  {
   "cell_type": "code",
   "execution_count": 71,
   "id": "c1b4efe6",
   "metadata": {},
   "outputs": [
    {
     "data": {
      "text/plain": [
       "''"
      ]
     },
     "execution_count": 71,
     "metadata": {},
     "output_type": "execute_result"
    }
   ],
   "source": [
    "myfile.read()"
   ]
  },
  {
   "cell_type": "code",
   "execution_count": 73,
   "id": "ab71bdb8",
   "metadata": {},
   "outputs": [
    {
     "data": {
      "text/plain": [
       "17"
      ]
     },
     "execution_count": 73,
     "metadata": {},
     "output_type": "execute_result"
    }
   ],
   "source": [
    "myfile.write(\"my brand new text\")"
   ]
  },
  {
   "cell_type": "code",
   "execution_count": 74,
   "id": "4951b7a0",
   "metadata": {},
   "outputs": [
    {
     "data": {
      "text/plain": [
       "0"
      ]
     },
     "execution_count": 74,
     "metadata": {},
     "output_type": "execute_result"
    }
   ],
   "source": [
    "myfile.seek(0)"
   ]
  },
  {
   "cell_type": "code",
   "execution_count": 75,
   "id": "5e13829b",
   "metadata": {},
   "outputs": [
    {
     "data": {
      "text/plain": [
       "'my brand new text'"
      ]
     },
     "execution_count": 75,
     "metadata": {},
     "output_type": "execute_result"
    }
   ],
   "source": [
    "myfile.read()"
   ]
  },
  {
   "cell_type": "code",
   "execution_count": 76,
   "id": "214cdcf2",
   "metadata": {},
   "outputs": [],
   "source": [
    "myfile.close()"
   ]
  },
  {
   "cell_type": "markdown",
   "id": "72fa2e7c",
   "metadata": {},
   "source": [
    "## Appending to a file"
   ]
  },
  {
   "cell_type": "code",
   "execution_count": 77,
   "id": "068871dc",
   "metadata": {},
   "outputs": [],
   "source": [
    "# keeps the old information and add the new ones"
   ]
  },
  {
   "cell_type": "code",
   "execution_count": 105,
   "id": "10a4f715",
   "metadata": {},
   "outputs": [],
   "source": [
    "myfile = open('test.txt','a+')"
   ]
  },
  {
   "cell_type": "code",
   "execution_count": 106,
   "id": "09721926",
   "metadata": {},
   "outputs": [
    {
     "data": {
      "text/plain": [
       "9"
      ]
     },
     "execution_count": 106,
     "metadata": {},
     "output_type": "execute_result"
    }
   ],
   "source": [
    "myfile.write(\" new text\")"
   ]
  },
  {
   "cell_type": "code",
   "execution_count": 108,
   "id": "e320afdd",
   "metadata": {},
   "outputs": [],
   "source": [
    "myfile.close()"
   ]
  },
  {
   "cell_type": "code",
   "execution_count": 109,
   "id": "970de957",
   "metadata": {},
   "outputs": [],
   "source": [
    "myfile = open('test.txt')"
   ]
  },
  {
   "cell_type": "code",
   "execution_count": 110,
   "id": "9af6f28e",
   "metadata": {},
   "outputs": [
    {
     "data": {
      "text/plain": [
       "' appending the text new text'"
      ]
     },
     "execution_count": 110,
     "metadata": {},
     "output_type": "execute_result"
    }
   ],
   "source": [
    "myfile.read()"
   ]
  },
  {
   "cell_type": "code",
   "execution_count": 111,
   "id": "30b6738a",
   "metadata": {},
   "outputs": [],
   "source": [
    "myfile.close()"
   ]
  },
  {
   "cell_type": "code",
   "execution_count": 112,
   "id": "258b27aa",
   "metadata": {},
   "outputs": [],
   "source": [
    "myfile = open('test.txt',mode = 'a+')"
   ]
  },
  {
   "cell_type": "code",
   "execution_count": 113,
   "id": "9e68b79e",
   "metadata": {},
   "outputs": [
    {
     "data": {
      "text/plain": [
       "26"
      ]
     },
     "execution_count": 113,
     "metadata": {},
     "output_type": "execute_result"
    }
   ],
   "source": [
    "myfile.write('new text added for viewing')"
   ]
  },
  {
   "cell_type": "code",
   "execution_count": 117,
   "id": "43ebc026",
   "metadata": {},
   "outputs": [
    {
     "data": {
      "text/plain": [
       "0"
      ]
     },
     "execution_count": 117,
     "metadata": {},
     "output_type": "execute_result"
    }
   ],
   "source": [
    "myfile.seek(0)"
   ]
  },
  {
   "cell_type": "code",
   "execution_count": 114,
   "id": "bf6c1943",
   "metadata": {},
   "outputs": [],
   "source": [
    "myfile.close()"
   ]
  },
  {
   "cell_type": "code",
   "execution_count": 115,
   "id": "9ef568b0",
   "metadata": {},
   "outputs": [],
   "source": [
    "myfile = open(\"test.txt\")"
   ]
  },
  {
   "cell_type": "code",
   "execution_count": 116,
   "id": "7da2c297",
   "metadata": {},
   "outputs": [
    {
     "data": {
      "text/plain": [
       "' appending the text new textnew text added for viewing'"
      ]
     },
     "execution_count": 116,
     "metadata": {},
     "output_type": "execute_result"
    }
   ],
   "source": [
    "myfile.read()"
   ]
  },
  {
   "cell_type": "code",
   "execution_count": 118,
   "id": "c620f874",
   "metadata": {},
   "outputs": [],
   "source": [
    "myfile.close()"
   ]
  },
  {
   "cell_type": "code",
   "execution_count": 130,
   "id": "1befd115",
   "metadata": {},
   "outputs": [],
   "source": [
    "myfile = open(\"test.txt\",mode = 'a+')"
   ]
  },
  {
   "cell_type": "code",
   "execution_count": 131,
   "id": "dde95617",
   "metadata": {},
   "outputs": [
    {
     "data": {
      "text/plain": [
       "29"
      ]
     },
     "execution_count": 131,
     "metadata": {},
     "output_type": "execute_result"
    }
   ],
   "source": [
    "myfile.write(\"\\nadded a new line on the file\")"
   ]
  },
  {
   "cell_type": "code",
   "execution_count": 132,
   "id": "d89433d7",
   "metadata": {},
   "outputs": [
    {
     "data": {
      "text/plain": [
       "0"
      ]
     },
     "execution_count": 132,
     "metadata": {},
     "output_type": "execute_result"
    }
   ],
   "source": [
    "myfile.seek(0)"
   ]
  },
  {
   "cell_type": "code",
   "execution_count": 134,
   "id": "502d3062",
   "metadata": {},
   "outputs": [],
   "source": [
    "myfile.close()"
   ]
  },
  {
   "cell_type": "code",
   "execution_count": 139,
   "id": "2e9df291",
   "metadata": {},
   "outputs": [],
   "source": [
    "myfile = open(\"test.txt\")"
   ]
  },
  {
   "cell_type": "code",
   "execution_count": 140,
   "id": "2405f4bd",
   "metadata": {},
   "outputs": [
    {
     "name": "stdout",
     "output_type": "stream",
     "text": [
      " appending the text new textnew text added for viewing\n",
      " added a new line on the file\n",
      "added a new line on the file\n"
     ]
    }
   ],
   "source": [
    "print(myfile.read())"
   ]
  },
  {
   "cell_type": "code",
   "execution_count": 165,
   "id": "5e6b191d",
   "metadata": {},
   "outputs": [],
   "source": [
    "# context manager 'with' - aliasing for automatically closing the file\n",
    "with open('test.txt','r') as myfile:\n",
    "    myvariable = myfile.readlines()"
   ]
  },
  {
   "cell_type": "code",
   "execution_count": 164,
   "id": "f74ba1d6",
   "metadata": {},
   "outputs": [
    {
     "data": {
      "text/plain": [
       "['Hello, this is a quick test file.\\n',\n",
       " 'This is the second line of the file.\\n']"
      ]
     },
     "execution_count": 164,
     "metadata": {},
     "output_type": "execute_result"
    }
   ],
   "source": [
    "myvariable"
   ]
  },
  {
   "cell_type": "markdown",
   "id": "5dd6cbf6",
   "metadata": {},
   "source": [
    "# Practice"
   ]
  },
  {
   "cell_type": "code",
   "execution_count": 18,
   "id": "716b38ed",
   "metadata": {},
   "outputs": [
    {
     "name": "stdout",
     "output_type": "stream",
     "text": [
      "Writing sample.txt\n"
     ]
    }
   ],
   "source": [
    "%%writefile sample.txt\n",
    "this is a practice file for a test"
   ]
  },
  {
   "cell_type": "code",
   "execution_count": 19,
   "id": "b385fb1e",
   "metadata": {},
   "outputs": [],
   "source": [
    "file1 = open(\"sample.txt\")"
   ]
  },
  {
   "cell_type": "code",
   "execution_count": 20,
   "id": "83845dc1",
   "metadata": {},
   "outputs": [
    {
     "data": {
      "text/plain": [
       "<_io.TextIOWrapper name='sample.txt' mode='r' encoding='cp1252'>"
      ]
     },
     "execution_count": 20,
     "metadata": {},
     "output_type": "execute_result"
    }
   ],
   "source": [
    "file1"
   ]
  },
  {
   "cell_type": "code",
   "execution_count": 38,
   "id": "51fd8aab",
   "metadata": {},
   "outputs": [
    {
     "data": {
      "text/plain": [
       "'this is a practice file for a test\\n'"
      ]
     },
     "execution_count": 38,
     "metadata": {},
     "output_type": "execute_result"
    }
   ],
   "source": [
    "file1.read()"
   ]
  },
  {
   "cell_type": "code",
   "execution_count": 39,
   "id": "3bb0db49",
   "metadata": {},
   "outputs": [
    {
     "data": {
      "text/plain": [
       "''"
      ]
     },
     "execution_count": 39,
     "metadata": {},
     "output_type": "execute_result"
    }
   ],
   "source": [
    "file1.read()"
   ]
  },
  {
   "cell_type": "code",
   "execution_count": 45,
   "id": "27a17461",
   "metadata": {},
   "outputs": [
    {
     "data": {
      "text/plain": [
       "0"
      ]
     },
     "execution_count": 45,
     "metadata": {},
     "output_type": "execute_result"
    }
   ],
   "source": [
    "file1.seek(0)"
   ]
  },
  {
   "cell_type": "code",
   "execution_count": 46,
   "id": "8fdaeece",
   "metadata": {},
   "outputs": [
    {
     "data": {
      "text/plain": [
       "'this is a practice file for a test\\n'"
      ]
     },
     "execution_count": 46,
     "metadata": {},
     "output_type": "execute_result"
    }
   ],
   "source": [
    "file1.read()"
   ]
  },
  {
   "cell_type": "code",
   "execution_count": 142,
   "id": "00e83299",
   "metadata": {},
   "outputs": [],
   "source": [
    "#filecreation"
   ]
  },
  {
   "cell_type": "code",
   "execution_count": 144,
   "id": "7df924d4",
   "metadata": {},
   "outputs": [
    {
     "name": "stdout",
     "output_type": "stream",
     "text": [
      "Writing practice.txt\n"
     ]
    }
   ],
   "source": [
    "%%writefile practice.txt\n",
    "hello world"
   ]
  },
  {
   "cell_type": "code",
   "execution_count": 150,
   "id": "c5f7d9b2",
   "metadata": {},
   "outputs": [],
   "source": [
    "#file opening\n",
    "newfile = open(\"practice.txt\",mode = 'w')"
   ]
  },
  {
   "cell_type": "code",
   "execution_count": 151,
   "id": "9f5f8cc2",
   "metadata": {},
   "outputs": [
    {
     "data": {
      "text/plain": [
       "12"
      ]
     },
     "execution_count": 151,
     "metadata": {},
     "output_type": "execute_result"
    }
   ],
   "source": [
    "#file writing\n",
    "newfile.write('\\nhello write')"
   ]
  },
  {
   "cell_type": "code",
   "execution_count": 154,
   "id": "4eb0f779",
   "metadata": {},
   "outputs": [],
   "source": [
    "#closing a file\n",
    "newfile.close()"
   ]
  },
  {
   "cell_type": "code",
   "execution_count": 156,
   "id": "f410285a",
   "metadata": {},
   "outputs": [],
   "source": [
    "newfile = open(\"practice.txt\")"
   ]
  },
  {
   "cell_type": "code",
   "execution_count": 161,
   "id": "099a9a19",
   "metadata": {},
   "outputs": [
    {
     "data": {
      "text/plain": [
       "0"
      ]
     },
     "execution_count": 161,
     "metadata": {},
     "output_type": "execute_result"
    }
   ],
   "source": [
    "# seeking the cursor to the start\n",
    "newfile.seek(0)"
   ]
  },
  {
   "cell_type": "code",
   "execution_count": 160,
   "id": "4331eac5",
   "metadata": {},
   "outputs": [
    {
     "name": "stdout",
     "output_type": "stream",
     "text": [
      "\n",
      "hello write\n"
     ]
    }
   ],
   "source": [
    "# reading a file\n",
    "print(newfile.read())"
   ]
  },
  {
   "cell_type": "code",
   "execution_count": null,
   "id": "778c520f",
   "metadata": {},
   "outputs": [],
   "source": []
  }
 ],
 "metadata": {
  "kernelspec": {
   "display_name": "Python 3 (ipykernel)",
   "language": "python",
   "name": "python3"
  },
  "language_info": {
   "codemirror_mode": {
    "name": "ipython",
    "version": 3
   },
   "file_extension": ".py",
   "mimetype": "text/x-python",
   "name": "python",
   "nbconvert_exporter": "python",
   "pygments_lexer": "ipython3",
   "version": "3.7.16"
  }
 },
 "nbformat": 4,
 "nbformat_minor": 5
}
