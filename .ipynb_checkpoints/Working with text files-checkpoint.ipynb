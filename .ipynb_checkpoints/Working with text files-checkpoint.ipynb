{
 "cells": [
  {
   "cell_type": "code",
   "execution_count": 10,
   "id": "871df630",
   "metadata": {},
   "outputs": [],
   "source": [
    "person = \"max\""
   ]
  },
  {
   "cell_type": "code",
   "execution_count": 11,
   "id": "7787eb7b",
   "metadata": {},
   "outputs": [
    {
     "name": "stdout",
     "output_type": "stream",
     "text": [
      "my name is max\n"
     ]
    }
   ],
   "source": [
    "#before python 3.6 \n",
    "print(\"my name is {}\".format(person))"
   ]
  },
  {
   "cell_type": "markdown",
   "id": "6e47e823",
   "metadata": {},
   "source": [
    "### formatted-string literals or f-string literal"
   ]
  },
  {
   "cell_type": "code",
   "execution_count": 7,
   "id": "ab43c4bd",
   "metadata": {},
   "outputs": [
    {
     "name": "stdout",
     "output_type": "stream",
     "text": [
      "my name is balu\n"
     ]
    }
   ],
   "source": [
    "print(f\"my name is {person}\")"
   ]
  },
  {
   "cell_type": "code",
   "execution_count": 12,
   "id": "f4d97952",
   "metadata": {},
   "outputs": [],
   "source": [
    "person = \"harry\""
   ]
  },
  {
   "cell_type": "code",
   "execution_count": 15,
   "id": "9816d134",
   "metadata": {},
   "outputs": [
    {
     "name": "stdout",
     "output_type": "stream",
     "text": [
      "my name is harry\n"
     ]
    }
   ],
   "source": [
    "print(f\"my name is {person}\") #f represents format"
   ]
  },
  {
   "cell_type": "code",
   "execution_count": 16,
   "id": "3f656592",
   "metadata": {},
   "outputs": [],
   "source": [
    "d = {'a':123,'b':246}"
   ]
  },
  {
   "cell_type": "code",
   "execution_count": 20,
   "id": "ef586a82",
   "metadata": {},
   "outputs": [
    {
     "name": "stdout",
     "output_type": "stream",
     "text": [
      "my number is 123\n"
     ]
    }
   ],
   "source": [
    "#f-string with dictionary\n",
    "print(f\"my number is {d['a']}\")"
   ]
  },
  {
   "cell_type": "code",
   "execution_count": 18,
   "id": "b72ea9e0",
   "metadata": {},
   "outputs": [],
   "source": [
    "mylist=[0,1,2]"
   ]
  },
  {
   "cell_type": "code",
   "execution_count": 19,
   "id": "25eb268a",
   "metadata": {},
   "outputs": [
    {
     "name": "stdout",
     "output_type": "stream",
     "text": [
      "my number is 0\n"
     ]
    }
   ],
   "source": [
    "# f-string with list\n",
    "print(f\"my number is {mylist[0]}\")"
   ]
  },
  {
   "cell_type": "code",
   "execution_count": 29,
   "id": "442bf101",
   "metadata": {},
   "outputs": [],
   "source": [
    "# listoftuples\n",
    "library = [('Author', 'Topic', 'Pages'), ('Twain', 'Rafting', 601), ('Feynman', 'Physics', 95), ('Hamilton', 'Mythology', 144)]"
   ]
  },
  {
   "cell_type": "code",
   "execution_count": 30,
   "id": "31cdc89d",
   "metadata": {},
   "outputs": [
    {
     "data": {
      "text/plain": [
       "[('Author', 'Topic', 'Pages'),\n",
       " ('Twain', 'Rafting', 601),\n",
       " ('Feynman', 'Physics', 95),\n",
       " ('Hamilton', 'Mythology', 144)]"
      ]
     },
     "execution_count": 30,
     "metadata": {},
     "output_type": "execute_result"
    }
   ],
   "source": [
    "library"
   ]
  },
  {
   "cell_type": "code",
   "execution_count": 33,
   "id": "1835b3ce",
   "metadata": {},
   "outputs": [
    {
     "name": "stdout",
     "output_type": "stream",
     "text": [
      "Author is Author\n",
      "Author is Twain\n",
      "Author is Feynman\n",
      "Author is Hamilton\n"
     ]
    }
   ],
   "source": [
    "for book in library:\n",
    "    print(f\"Author is {book[0]}\")"
   ]
  },
  {
   "cell_type": "code",
   "execution_count": 41,
   "id": "612b0b60",
   "metadata": {},
   "outputs": [
    {
     "name": "stdout",
     "output_type": "stream",
     "text": [
      "Author Topic Pages\n",
      "Twain Rafting 601\n",
      "Feynman Physics 95\n",
      "Hamilton Mythology 144\n"
     ]
    }
   ],
   "source": [
    "#tuple unpacking (to unpack the tuples)\n",
    "for author,topic,pages in library:\n",
    "        print(f\"{author} {topic} {pages}\")"
   ]
  },
  {
   "cell_type": "code",
   "execution_count": 42,
   "id": "c1afd280",
   "metadata": {},
   "outputs": [],
   "source": [
    "library = [('Author', 'Topic', 'Pages'), ('Twain', 'Rafting in water alone', 601), ('Feynman', 'Physics', 95), ('Hamilton', 'Mythology', 144)]"
   ]
  },
  {
   "cell_type": "code",
   "execution_count": 45,
   "id": "9d1fda2e",
   "metadata": {},
   "outputs": [
    {
     "name": "stdout",
     "output_type": "stream",
     "text": [
      "Author Topic Pages\n",
      "Twain Rafting in water alone 601\n",
      "Feynman Physics 95\n",
      "Hamilton Mythology 144\n"
     ]
    }
   ],
   "source": [
    "#padding is not good enough\n",
    "for author,topic,pages in library:\n",
    "    print(f\"{author} {topic} {pages}\")"
   ]
  },
  {
   "cell_type": "code",
   "execution_count": 50,
   "id": "154e26f7",
   "metadata": {},
   "outputs": [
    {
     "name": "stdout",
     "output_type": "stream",
     "text": [
      "Author     Topic                          Pages\n",
      "Twain      Rafting in water alone           601\n",
      "Feynman    Physics                           95\n",
      "Hamilton   Mythology                        144\n"
     ]
    }
   ],
   "source": [
    "#to add padding :{<padding_size>}\n",
    "for author,topic,pages in library:\n",
    "    print(f\"{author:{10}} {topic:{30}} {pages:{5}}\")"
   ]
  },
  {
   "cell_type": "code",
   "execution_count": null,
   "id": "d91eb92a",
   "metadata": {},
   "outputs": [],
   "source": []
  }
 ],
 "metadata": {
  "kernelspec": {
   "display_name": "Python 3 (ipykernel)",
   "language": "python",
   "name": "python3"
  },
  "language_info": {
   "codemirror_mode": {
    "name": "ipython",
    "version": 3
   },
   "file_extension": ".py",
   "mimetype": "text/x-python",
   "name": "python",
   "nbconvert_exporter": "python",
   "pygments_lexer": "ipython3",
   "version": "3.7.16"
  }
 },
 "nbformat": 4,
 "nbformat_minor": 5
}
