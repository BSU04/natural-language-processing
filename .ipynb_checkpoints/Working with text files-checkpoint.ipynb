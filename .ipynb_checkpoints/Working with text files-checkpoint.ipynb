{
 "cells": [
  {
   "cell_type": "code",
   "execution_count": 10,
   "id": "bd72c62a",
   "metadata": {},
   "outputs": [],
   "source": [
    "person = \"max\""
   ]
  },
  {
   "cell_type": "code",
   "execution_count": 11,
   "id": "4a5c06d7",
   "metadata": {},
   "outputs": [
    {
     "name": "stdout",
     "output_type": "stream",
     "text": [
      "my name is max\n"
     ]
    }
   ],
   "source": [
    "#before python 3.6 \n",
    "print(\"my name is {}\".format(person))"
   ]
  },
  {
   "cell_type": "markdown",
   "id": "ea339add",
   "metadata": {},
   "source": [
    "### formatted-string literals or f-string literal"
   ]
  },
  {
   "cell_type": "code",
   "execution_count": 7,
   "id": "8bd41836",
   "metadata": {},
   "outputs": [
    {
     "name": "stdout",
     "output_type": "stream",
     "text": [
      "my name is balu\n"
     ]
    }
   ],
   "source": [
    "print(f\"my name is {person}\")"
   ]
  },
  {
   "cell_type": "code",
   "execution_count": 12,
   "id": "fa04045a",
   "metadata": {},
   "outputs": [],
   "source": [
    "person = \"harry\""
   ]
  },
  {
   "cell_type": "code",
   "execution_count": 15,
   "id": "c16dd5d0",
   "metadata": {},
   "outputs": [
    {
     "name": "stdout",
     "output_type": "stream",
     "text": [
      "my name is harry\n"
     ]
    }
   ],
   "source": [
    "print(f\"my name is {person}\") #f represents format"
   ]
  },
  {
   "cell_type": "code",
   "execution_count": 16,
   "id": "69e9b825",
   "metadata": {},
   "outputs": [],
   "source": [
    "d = {'a':123,'b':246}"
   ]
  },
  {
   "cell_type": "code",
   "execution_count": 20,
   "id": "911f7e12",
   "metadata": {},
   "outputs": [
    {
     "name": "stdout",
     "output_type": "stream",
     "text": [
      "my number is 123\n"
     ]
    }
   ],
   "source": [
    "#f-string with dictionary\n",
    "print(f\"my number is {d['a']}\")"
   ]
  },
  {
   "cell_type": "code",
   "execution_count": 18,
   "id": "e3109462",
   "metadata": {},
   "outputs": [],
   "source": [
    "mylist=[0,1,2]"
   ]
  },
  {
   "cell_type": "code",
   "execution_count": 19,
   "id": "b67f1b38",
   "metadata": {},
   "outputs": [
    {
     "name": "stdout",
     "output_type": "stream",
     "text": [
      "my number is 0\n"
     ]
    }
   ],
   "source": [
    "# f-string with list\n",
    "print(f\"my number is {mylist[0]}\")"
   ]
  },
  {
   "cell_type": "code",
   "execution_count": 29,
   "id": "7198ed29",
   "metadata": {},
   "outputs": [],
   "source": [
    "# listoftuples\n",
    "library = [('Author', 'Topic', 'Pages'), ('Twain', 'Rafting', 601), ('Feynman', 'Physics', 95), ('Hamilton', 'Mythology', 144)]"
   ]
  },
  {
   "cell_type": "code",
   "execution_count": 30,
   "id": "1fc0af20",
   "metadata": {},
   "outputs": [
    {
     "data": {
      "text/plain": [
       "[('Author', 'Topic', 'Pages'),\n",
       " ('Twain', 'Rafting', 601),\n",
       " ('Feynman', 'Physics', 95),\n",
       " ('Hamilton', 'Mythology', 144)]"
      ]
     },
     "execution_count": 30,
     "metadata": {},
     "output_type": "execute_result"
    }
   ],
   "source": [
    "library"
   ]
  },
  {
   "cell_type": "code",
   "execution_count": 33,
   "id": "823e9bda",
   "metadata": {},
   "outputs": [
    {
     "name": "stdout",
     "output_type": "stream",
     "text": [
      "Author is Author\n",
      "Author is Twain\n",
      "Author is Feynman\n",
      "Author is Hamilton\n"
     ]
    }
   ],
   "source": [
    "for book in library:\n",
    "    print(f\"Author is {book[0]}\")"
   ]
  },
  {
   "cell_type": "code",
   "execution_count": 41,
   "id": "d1596d09",
   "metadata": {},
   "outputs": [
    {
     "name": "stdout",
     "output_type": "stream",
     "text": [
      "Author Topic Pages\n",
      "Twain Rafting 601\n",
      "Feynman Physics 95\n",
      "Hamilton Mythology 144\n"
     ]
    }
   ],
   "source": [
    "#tuple unpacking (to unpack the tuples)\n",
    "for author,topic,pages in library:\n",
    "        print(f\"{author} {topic} {pages}\")"
   ]
  },
  {
   "cell_type": "code",
   "execution_count": 42,
   "id": "79a2b63f",
   "metadata": {},
   "outputs": [],
   "source": [
    "library = [('Author', 'Topic', 'Pages'), ('Twain', 'Rafting in water alone', 601), ('Feynman', 'Physics', 95), ('Hamilton', 'Mythology', 144)]"
   ]
  },
  {
   "cell_type": "code",
   "execution_count": 45,
   "id": "52ff9c00",
   "metadata": {},
   "outputs": [
    {
     "name": "stdout",
     "output_type": "stream",
     "text": [
      "Author Topic Pages\n",
      "Twain Rafting in water alone 601\n",
      "Feynman Physics 95\n",
      "Hamilton Mythology 144\n"
     ]
    }
   ],
   "source": [
    "#padding is not good enough\n",
    "for author,topic,pages in library:\n",
    "    print(f\"{author} {topic} {pages}\")"
   ]
  },
  {
   "cell_type": "code",
   "execution_count": 52,
   "id": "14167a57",
   "metadata": {},
   "outputs": [
    {
     "name": "stdout",
     "output_type": "stream",
     "text": [
      "Author     Topic                               Pages\n",
      "Twain      Rafting in water alone                601\n",
      "Feynman    Physics                                95\n",
      "Hamilton   Mythology                             144\n"
     ]
    }
   ],
   "source": [
    "#to add padding :{<padding_size>}\n",
    "for author,topic,pages in library:\n",
    "    print(f\"{author:{10}} {topic:{30}} {pages:>{10}}\")"
   ]
  },
  {
   "cell_type": "code",
   "execution_count": 53,
   "id": "9b7bee6d",
   "metadata": {},
   "outputs": [],
   "source": [
    "# if string and integers are not aligned giving > in :>{10} fixes the issue"
   ]
  },
  {
   "cell_type": "code",
   "execution_count": 69,
   "id": "406b52b8",
   "metadata": {},
   "outputs": [],
   "source": [
    "# inorder to fill up the gaps give - or .(preferred) before angle brackets "
   ]
  },
  {
   "cell_type": "code",
   "execution_count": 58,
   "id": "22219cb5",
   "metadata": {},
   "outputs": [
    {
     "name": "stdout",
     "output_type": "stream",
     "text": [
      "Author     Topic                          -----Pages\n",
      "Twain      Rafting in water alone         -------601\n",
      "Feynman    Physics                        --------95\n",
      "Hamilton   Mythology                      -------144\n"
     ]
    }
   ],
   "source": [
    "for author,topic,pages in library:\n",
    "    print(f\"{author:{10}} {topic:{30}} {pages:->{10}}\") #total size 10 including the prefix "
   ]
  },
  {
   "cell_type": "code",
   "execution_count": 68,
   "id": "99db0051",
   "metadata": {},
   "outputs": [
    {
     "name": "stdout",
     "output_type": "stream",
     "text": [
      "Author     Topic                          .....Pages\n",
      "Twain      Rafting in water alone         .......601\n",
      "Feynman    Physics                        ........95\n",
      "Hamilton   Mythology                      .......144\n"
     ]
    }
   ],
   "source": [
    "for author,topic,pages in library:\n",
    "    print(f\"{author:{10}} {topic:{30}} {pages:.>{10}}\")"
   ]
  },
  {
   "cell_type": "markdown",
   "id": "ca410dc2",
   "metadata": {},
   "source": [
    "## date formatting"
   ]
  },
  {
   "cell_type": "code",
   "execution_count": 70,
   "id": "7ebd6e9c",
   "metadata": {},
   "outputs": [],
   "source": [
    "from datetime import datetime"
   ]
  },
  {
   "cell_type": "code",
   "execution_count": 73,
   "id": "331ee538",
   "metadata": {},
   "outputs": [],
   "source": [
    "today = datetime(year=2019,month=2,day=28) #datetime object"
   ]
  },
  {
   "cell_type": "code",
   "execution_count": 89,
   "id": "14b2eff2",
   "metadata": {},
   "outputs": [
    {
     "name": "stdout",
     "output_type": "stream",
     "text": [
      "February 28, 2019\n"
     ]
    }
   ],
   "source": [
    "# strftime.org\n",
    "print(f\"{today:%B %d, %Y}\")"
   ]
  },
  {
   "cell_type": "code",
   "execution_count": 92,
   "id": "a620a4e1",
   "metadata": {},
   "outputs": [],
   "source": [
    "list = ['abcd','efgb']"
   ]
  },
  {
   "cell_type": "code",
   "execution_count": 93,
   "id": "3ad43eb9",
   "metadata": {},
   "outputs": [
    {
     "data": {
      "text/plain": [
       "['abcd', 'efgb']"
      ]
     },
     "execution_count": 93,
     "metadata": {},
     "output_type": "execute_result"
    }
   ],
   "source": [
    "list"
   ]
  },
  {
   "cell_type": "code",
   "execution_count": 94,
   "id": "f9cb94af",
   "metadata": {},
   "outputs": [],
   "source": [
    "list = [1,2,3]"
   ]
  },
  {
   "cell_type": "code",
   "execution_count": 95,
   "id": "f23c011f",
   "metadata": {},
   "outputs": [
    {
     "data": {
      "text/plain": [
       "[1, 2, 3]"
      ]
     },
     "execution_count": 95,
     "metadata": {},
     "output_type": "execute_result"
    }
   ],
   "source": [
    "list"
   ]
  },
  {
   "cell_type": "code",
   "execution_count": 96,
   "id": "f02b014b",
   "metadata": {},
   "outputs": [],
   "source": [
    "dict = {\"n1\":\"max\",\"n2\":\"well\",\"n3\":29}"
   ]
  },
  {
   "cell_type": "code",
   "execution_count": 97,
   "id": "705616d3",
   "metadata": {},
   "outputs": [
    {
     "data": {
      "text/plain": [
       "{'n1': 'max', 'n2': 'well', 'n3': 29}"
      ]
     },
     "execution_count": 97,
     "metadata": {},
     "output_type": "execute_result"
    }
   ],
   "source": [
    "dict"
   ]
  },
  {
   "cell_type": "code",
   "execution_count": 104,
   "id": "210e9259",
   "metadata": {},
   "outputs": [
    {
     "data": {
      "text/plain": [
       "dict_keys(['n1', 'n2', 'n3'])"
      ]
     },
     "execution_count": 104,
     "metadata": {},
     "output_type": "execute_result"
    }
   ],
   "source": [
    "dict.keys()"
   ]
  },
  {
   "cell_type": "code",
   "execution_count": 108,
   "id": "e1d1996d",
   "metadata": {},
   "outputs": [
    {
     "data": {
      "text/plain": [
       "dict_values(['max', 'well', 29])"
      ]
     },
     "execution_count": 108,
     "metadata": {},
     "output_type": "execute_result"
    }
   ],
   "source": [
    "dict.values()"
   ]
  },
  {
   "cell_type": "code",
   "execution_count": null,
   "id": "6d048fe1",
   "metadata": {},
   "outputs": [],
   "source": []
  }
 ],
 "metadata": {
  "kernelspec": {
   "display_name": "Python 3 (ipykernel)",
   "language": "python",
   "name": "python3"
  },
  "language_info": {
   "codemirror_mode": {
    "name": "ipython",
    "version": 3
   },
   "file_extension": ".py",
   "mimetype": "text/x-python",
   "name": "python",
   "nbconvert_exporter": "python",
   "pygments_lexer": "ipython3",
   "version": "3.7.16"
  }
 },
 "nbformat": 4,
 "nbformat_minor": 5
}
