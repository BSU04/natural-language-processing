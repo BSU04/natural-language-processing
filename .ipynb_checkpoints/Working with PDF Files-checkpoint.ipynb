{
 "cells": [
  {
   "cell_type": "markdown",
   "id": "56079d27",
   "metadata": {},
   "source": [
    "### PyPDF2 Library\n",
    "\n",
    "Used for extracting text data from a PDF File directly from a word processor "
   ]
  },
  {
   "cell_type": "markdown",
   "id": "cecdeeb6",
   "metadata": {},
   "source": [
    "### Not all PDF's have data that can be extracted!"
   ]
  },
  {
   "cell_type": "markdown",
   "id": "c72d33e5",
   "metadata": {},
   "source": [
    "Scanned pdf files are image files which are harder to extract which requires specialized software"
   ]
  },
  {
   "cell_type": "code",
   "execution_count": 1,
   "id": "cf5cc580",
   "metadata": {},
   "outputs": [],
   "source": [
    "import PyPDF2"
   ]
  },
  {
   "cell_type": "code",
   "execution_count": 19,
   "id": "8625d9f4",
   "metadata": {},
   "outputs": [],
   "source": [
    "# rb - reading in binary mode\n",
    "myfile = open(\"test.pdf\",mode='rb')"
   ]
  },
  {
   "cell_type": "code",
   "execution_count": 33,
   "id": "fa562782",
   "metadata": {},
   "outputs": [
    {
     "ename": "ValueError",
     "evalue": "seek of closed file",
     "output_type": "error",
     "traceback": [
      "\u001b[1;31m---------------------------------------------------------------------------\u001b[0m",
      "\u001b[1;31mValueError\u001b[0m                                Traceback (most recent call last)",
      "\u001b[1;32m~\\AppData\\Local\\Temp\\ipykernel_12916\\3459682998.py\u001b[0m in \u001b[0;36m<module>\u001b[1;34m\u001b[0m\n\u001b[0;32m      1\u001b[0m \u001b[1;31m# convert to pdf file reader object (reading)\u001b[0m\u001b[1;33m\u001b[0m\u001b[1;33m\u001b[0m\u001b[1;33m\u001b[0m\u001b[0m\n\u001b[0;32m      2\u001b[0m \u001b[1;31m# PdfReader - for reading the file\u001b[0m\u001b[1;33m\u001b[0m\u001b[1;33m\u001b[0m\u001b[1;33m\u001b[0m\u001b[0m\n\u001b[1;32m----> 3\u001b[1;33m \u001b[0mpdf_reader\u001b[0m \u001b[1;33m=\u001b[0m \u001b[0mPyPDF2\u001b[0m\u001b[1;33m.\u001b[0m\u001b[0mPdfReader\u001b[0m\u001b[1;33m(\u001b[0m\u001b[0mmyfile\u001b[0m\u001b[1;33m)\u001b[0m\u001b[1;33m\u001b[0m\u001b[1;33m\u001b[0m\u001b[0m\n\u001b[0m",
      "\u001b[1;32m~\\anaconda3\\envs\\nlp_course\\lib\\site-packages\\PyPDF2\\_reader.py\u001b[0m in \u001b[0;36m__init__\u001b[1;34m(self, stream, strict, password)\u001b[0m\n\u001b[0;32m    317\u001b[0m             \u001b[1;32mwith\u001b[0m \u001b[0mopen\u001b[0m\u001b[1;33m(\u001b[0m\u001b[0mstream\u001b[0m\u001b[1;33m,\u001b[0m \u001b[1;34m\"rb\"\u001b[0m\u001b[1;33m)\u001b[0m \u001b[1;32mas\u001b[0m \u001b[0mfh\u001b[0m\u001b[1;33m:\u001b[0m\u001b[1;33m\u001b[0m\u001b[1;33m\u001b[0m\u001b[0m\n\u001b[0;32m    318\u001b[0m                 \u001b[0mstream\u001b[0m \u001b[1;33m=\u001b[0m \u001b[0mBytesIO\u001b[0m\u001b[1;33m(\u001b[0m\u001b[0mfh\u001b[0m\u001b[1;33m.\u001b[0m\u001b[0mread\u001b[0m\u001b[1;33m(\u001b[0m\u001b[1;33m)\u001b[0m\u001b[1;33m)\u001b[0m\u001b[1;33m\u001b[0m\u001b[1;33m\u001b[0m\u001b[0m\n\u001b[1;32m--> 319\u001b[1;33m         \u001b[0mself\u001b[0m\u001b[1;33m.\u001b[0m\u001b[0mread\u001b[0m\u001b[1;33m(\u001b[0m\u001b[0mstream\u001b[0m\u001b[1;33m)\u001b[0m\u001b[1;33m\u001b[0m\u001b[1;33m\u001b[0m\u001b[0m\n\u001b[0m\u001b[0;32m    320\u001b[0m         \u001b[0mself\u001b[0m\u001b[1;33m.\u001b[0m\u001b[0mstream\u001b[0m \u001b[1;33m=\u001b[0m \u001b[0mstream\u001b[0m\u001b[1;33m\u001b[0m\u001b[1;33m\u001b[0m\u001b[0m\n\u001b[0;32m    321\u001b[0m \u001b[1;33m\u001b[0m\u001b[0m\n",
      "\u001b[1;32m~\\anaconda3\\envs\\nlp_course\\lib\\site-packages\\PyPDF2\\_reader.py\u001b[0m in \u001b[0;36mread\u001b[1;34m(self, stream)\u001b[0m\n\u001b[0;32m   1412\u001b[0m \u001b[1;33m\u001b[0m\u001b[0m\n\u001b[0;32m   1413\u001b[0m     \u001b[1;32mdef\u001b[0m \u001b[0mread\u001b[0m\u001b[1;33m(\u001b[0m\u001b[0mself\u001b[0m\u001b[1;33m,\u001b[0m \u001b[0mstream\u001b[0m\u001b[1;33m:\u001b[0m \u001b[0mStreamType\u001b[0m\u001b[1;33m)\u001b[0m \u001b[1;33m->\u001b[0m \u001b[1;32mNone\u001b[0m\u001b[1;33m:\u001b[0m\u001b[1;33m\u001b[0m\u001b[1;33m\u001b[0m\u001b[0m\n\u001b[1;32m-> 1414\u001b[1;33m         \u001b[0mself\u001b[0m\u001b[1;33m.\u001b[0m\u001b[0m_basic_validation\u001b[0m\u001b[1;33m(\u001b[0m\u001b[0mstream\u001b[0m\u001b[1;33m)\u001b[0m\u001b[1;33m\u001b[0m\u001b[1;33m\u001b[0m\u001b[0m\n\u001b[0m\u001b[0;32m   1415\u001b[0m         \u001b[0mself\u001b[0m\u001b[1;33m.\u001b[0m\u001b[0m_find_eof_marker\u001b[0m\u001b[1;33m(\u001b[0m\u001b[0mstream\u001b[0m\u001b[1;33m)\u001b[0m\u001b[1;33m\u001b[0m\u001b[1;33m\u001b[0m\u001b[0m\n\u001b[0;32m   1416\u001b[0m         \u001b[0mstartxref\u001b[0m \u001b[1;33m=\u001b[0m \u001b[0mself\u001b[0m\u001b[1;33m.\u001b[0m\u001b[0m_find_startxref_pos\u001b[0m\u001b[1;33m(\u001b[0m\u001b[0mstream\u001b[0m\u001b[1;33m)\u001b[0m\u001b[1;33m\u001b[0m\u001b[1;33m\u001b[0m\u001b[0m\n",
      "\u001b[1;32m~\\anaconda3\\envs\\nlp_course\\lib\\site-packages\\PyPDF2\\_reader.py\u001b[0m in \u001b[0;36m_basic_validation\u001b[1;34m(self, stream)\u001b[0m\n\u001b[0;32m   1451\u001b[0m     \u001b[1;32mdef\u001b[0m \u001b[0m_basic_validation\u001b[0m\u001b[1;33m(\u001b[0m\u001b[0mself\u001b[0m\u001b[1;33m,\u001b[0m \u001b[0mstream\u001b[0m\u001b[1;33m:\u001b[0m \u001b[0mStreamType\u001b[0m\u001b[1;33m)\u001b[0m \u001b[1;33m->\u001b[0m \u001b[1;32mNone\u001b[0m\u001b[1;33m:\u001b[0m\u001b[1;33m\u001b[0m\u001b[1;33m\u001b[0m\u001b[0m\n\u001b[0;32m   1452\u001b[0m         \u001b[1;31m# start at the end:\u001b[0m\u001b[1;33m\u001b[0m\u001b[1;33m\u001b[0m\u001b[1;33m\u001b[0m\u001b[0m\n\u001b[1;32m-> 1453\u001b[1;33m         \u001b[0mstream\u001b[0m\u001b[1;33m.\u001b[0m\u001b[0mseek\u001b[0m\u001b[1;33m(\u001b[0m\u001b[1;36m0\u001b[0m\u001b[1;33m,\u001b[0m \u001b[0mos\u001b[0m\u001b[1;33m.\u001b[0m\u001b[0mSEEK_END\u001b[0m\u001b[1;33m)\u001b[0m\u001b[1;33m\u001b[0m\u001b[1;33m\u001b[0m\u001b[0m\n\u001b[0m\u001b[0;32m   1454\u001b[0m         \u001b[1;32mif\u001b[0m \u001b[1;32mnot\u001b[0m \u001b[0mstream\u001b[0m\u001b[1;33m.\u001b[0m\u001b[0mtell\u001b[0m\u001b[1;33m(\u001b[0m\u001b[1;33m)\u001b[0m\u001b[1;33m:\u001b[0m\u001b[1;33m\u001b[0m\u001b[1;33m\u001b[0m\u001b[0m\n\u001b[0;32m   1455\u001b[0m             \u001b[1;32mraise\u001b[0m \u001b[0mEmptyFileError\u001b[0m\u001b[1;33m(\u001b[0m\u001b[1;34m\"Cannot read an empty file\"\u001b[0m\u001b[1;33m)\u001b[0m\u001b[1;33m\u001b[0m\u001b[1;33m\u001b[0m\u001b[0m\n",
      "\u001b[1;31mValueError\u001b[0m: seek of closed file"
     ]
    }
   ],
   "source": [
    "# convert to pdf file reader object (reading)\n",
    "# PdfReader - for reading the file \n",
    "pdf_reader = PyPDF2.PdfReader(myfile)"
   ]
  },
  {
   "cell_type": "code",
   "execution_count": 26,
   "id": "ed72f463",
   "metadata": {},
   "outputs": [
    {
     "data": {
      "text/plain": [
       "1"
      ]
     },
     "execution_count": 26,
     "metadata": {},
     "output_type": "execute_result"
    }
   ],
   "source": [
    "# find the no of pages\n",
    "len(pdf_reader.pages)"
   ]
  },
  {
   "cell_type": "code",
   "execution_count": 22,
   "id": "4bc3f7da",
   "metadata": {},
   "outputs": [],
   "source": [
    "page_one = pdf_reader.pages[0]"
   ]
  },
  {
   "cell_type": "code",
   "execution_count": 65,
   "id": "562f413f",
   "metadata": {},
   "outputs": [
    {
     "data": {
      "text/plain": [
       "'Welcome to Smallpdf\\nDigital Documents—All In One Place\\nAccess Files Anytime, Anywhere Enhance Documents in One Click \\nCollaborate With Others With the new Smallpdf experience, you can \\nfreely upload, organize, and share digital \\ndocuments. When you enable the ‘Storage’ \\noption, we’ll also store all processed files here. \\nYou can access files stored on Smallpdf from \\nyour computer, phone, or tablet. We’ll also \\nsync files from the Smallpdf Mobile App to our \\nonline portalWhen you right-click on a file, we’ll present \\nyou with an array of options to convert, \\ncompress, or modify it. \\nForget mundane administrative tasks. With \\nSmallpdf, you can request e-signatures, send \\nlarge files, or even enable the Smallpdf G Suite \\nApp for your entire organization. Ready to take document management to the next level? \\n'"
      ]
     },
     "execution_count": 65,
     "metadata": {},
     "output_type": "execute_result"
    }
   ],
   "source": [
    "# extract_text() - for extracting text from pdf\n",
    "page_one.extract_text()"
   ]
  },
  {
   "cell_type": "code",
   "execution_count": 28,
   "id": "9d2b89b8",
   "metadata": {},
   "outputs": [
    {
     "name": "stdout",
     "output_type": "stream",
     "text": [
      "Welcome to Smallpdf\n",
      "Digital Documents—All In One Place\n",
      "Access Files Anytime, Anywhere Enhance Documents in One Click \n",
      "Collaborate With Others With the new Smallpdf experience, you can \n",
      "freely upload, organize, and share digital \n",
      "documents. When you enable the ‘Storage’ \n",
      "option, we’ll also store all processed files here. \n",
      "You can access files stored on Smallpdf from \n",
      "your computer, phone, or tablet. We’ll also \n",
      "sync files from the Smallpdf Mobile App to our \n",
      "online portalWhen you right-click on a file, we’ll present \n",
      "you with an array of options to convert, \n",
      "compress, or modify it. \n",
      "Forget mundane administrative tasks. With \n",
      "Smallpdf, you can request e-signatures, send \n",
      "large files, or even enable the Smallpdf G Suite \n",
      "App for your entire organization. Ready to take document management to the next level? \n",
      "\n"
     ]
    }
   ],
   "source": [
    "print(page_one.extract_text())"
   ]
  },
  {
   "cell_type": "code",
   "execution_count": 29,
   "id": "f05acdc2",
   "metadata": {},
   "outputs": [],
   "source": [
    "mytext = page_one.extract_text()"
   ]
  },
  {
   "cell_type": "code",
   "execution_count": 30,
   "id": "7652fe07",
   "metadata": {},
   "outputs": [],
   "source": [
    "myfile.close()"
   ]
  },
  {
   "cell_type": "code",
   "execution_count": null,
   "id": "997f0a54",
   "metadata": {},
   "outputs": [],
   "source": []
  },
  {
   "cell_type": "code",
   "execution_count": 31,
   "id": "a48fcc09",
   "metadata": {},
   "outputs": [],
   "source": [
    "# reading a file\n",
    "f = open(\"sample.pdf\",mode = \"rb\")"
   ]
  },
  {
   "cell_type": "code",
   "execution_count": 34,
   "id": "d3b76090",
   "metadata": {},
   "outputs": [],
   "source": [
    "# using PdfReader\n",
    "pdf_reader = PyPDF2.PdfReader(f)"
   ]
  },
  {
   "cell_type": "code",
   "execution_count": 54,
   "id": "f95a2159",
   "metadata": {},
   "outputs": [],
   "source": [
    "# getting the first page from the file\n",
    "first_page = pdf_reader.pages[0]"
   ]
  },
  {
   "cell_type": "code",
   "execution_count": 55,
   "id": "1500154a",
   "metadata": {},
   "outputs": [],
   "source": [
    "# PdfWiter - for writing on to pdf\n",
    "# creating a PdfWriter\n",
    "pdf_writer = PyPDF2.PdfWriter()"
   ]
  },
  {
   "cell_type": "code",
   "execution_count": 56,
   "id": "dcf59dc9",
   "metadata": {},
   "outputs": [
    {
     "data": {
      "text/plain": [
       "{'/Type': '/Page',\n",
       " '/Resources': {'/Font': {'/F1': {'/Type': '/Font',\n",
       "    '/Subtype': '/Type1',\n",
       "    '/Name': '/F1',\n",
       "    '/BaseFont': '/Helvetica',\n",
       "    '/Encoding': '/WinAnsiEncoding'}},\n",
       "  '/ProcSet': ['/PDF', '/Text']},\n",
       " '/MediaBox': [0, 0, 612, 792],\n",
       " '/Contents': {},\n",
       " '/Parent': {'/Type': '/Pages',\n",
       "  '/Count': 1,\n",
       "  '/Kids': [IndirectObject(4, 0, 2387470838280)]}}"
      ]
     },
     "execution_count": 56,
     "metadata": {},
     "output_type": "execute_result"
    }
   ],
   "source": [
    "# adding the first page on to the writer object\n",
    "pdf_writer.add_page(first_page)"
   ]
  },
  {
   "cell_type": "code",
   "execution_count": 53,
   "id": "d2a14291",
   "metadata": {},
   "outputs": [],
   "source": [
    "# mode = wb will write a pdf file in binary\n",
    "pdf_output = open('my_brand_new.pdf','wb')"
   ]
  },
  {
   "cell_type": "code",
   "execution_count": 57,
   "id": "398624e0",
   "metadata": {},
   "outputs": [
    {
     "data": {
      "text/plain": [
       "(False, <_io.BufferedWriter name='my_brand_new.pdf'>)"
      ]
     },
     "execution_count": 57,
     "metadata": {},
     "output_type": "execute_result"
    }
   ],
   "source": [
    "# writing\n",
    "pdf_writer.write(pdf_output)"
   ]
  },
  {
   "cell_type": "code",
   "execution_count": 58,
   "id": "9fc115ce",
   "metadata": {},
   "outputs": [],
   "source": [
    "pdf_output.close()"
   ]
  },
  {
   "cell_type": "code",
   "execution_count": 59,
   "id": "9442112d",
   "metadata": {},
   "outputs": [],
   "source": [
    "f.close()"
   ]
  },
  {
   "cell_type": "code",
   "execution_count": 61,
   "id": "6496ecb5",
   "metadata": {},
   "outputs": [],
   "source": [
    "brand_new = open(\"my_brand_new.pdf\",\"rb\")"
   ]
  },
  {
   "cell_type": "code",
   "execution_count": 62,
   "id": "f442bf17",
   "metadata": {},
   "outputs": [],
   "source": [
    "pdf_reader = PyPDF2.PdfReader(brand_new)"
   ]
  },
  {
   "cell_type": "code",
   "execution_count": 63,
   "id": "93f56cee",
   "metadata": {},
   "outputs": [
    {
     "data": {
      "text/plain": [
       "1"
      ]
     },
     "execution_count": 63,
     "metadata": {},
     "output_type": "execute_result"
    }
   ],
   "source": [
    "len(pdf_reader.pages)"
   ]
  },
  {
   "cell_type": "code",
   "execution_count": 78,
   "id": "075e16e3",
   "metadata": {},
   "outputs": [],
   "source": [
    "f = open('test1.pdf',mode = \"rb\")"
   ]
  },
  {
   "cell_type": "code",
   "execution_count": 79,
   "id": "666be5e2",
   "metadata": {},
   "outputs": [],
   "source": [
    "pdf_text = []\n",
    "pdf_reader = PyPDF2.PdfReader(f)"
   ]
  },
  {
   "cell_type": "code",
   "execution_count": 83,
   "id": "c0ca2e7d",
   "metadata": {},
   "outputs": [],
   "source": [
    "for p in range(len(pdf_reader.pages)):\n",
    "    page = pdf_reader.pages[p]\n",
    "    pdf_text.append(page.extract_text())\n",
    "f.close()"
   ]
  },
  {
   "cell_type": "code",
   "execution_count": 84,
   "id": "922c2645",
   "metadata": {
    "scrolled": true
   },
   "outputs": [
    {
     "data": {
      "text/plain": [
       "['Sample PDF Document\\nRobertMaron\\nGrzegorz Grudzi ´nski\\nFebruary20, 1999',\n",
       " '2',\n",
       " 'Contents\\n1 Template 5\\n1.1 How tocompilea .texﬁleto a .pdfﬁle. . . . . . . . . . . . . 5\\n1.1.1 Tools . . . . . . . . . . . . . . . . . . . . . . . . . . . . 5\\n1.1.2 How to usethetools . . . . . . . . . . . . . . . . . . . . 5\\n1.2 How towritea document . . . . . . . . . . . . . . . . . . . . . . 6\\n1.2.1 Themaindocument . . . . . . . . . . . . . . . . . . . . . 6\\n1.2.2 Chapters . . . . . . . . . . . . . . . . . . . . . . . . . . 6\\n1.2.3 Spell-checking . . . . . . . . . . . . . . . . . . . . . . . 6\\n1.3 L ATEXand pdfL ATEXcapabilities . . . . . . . . . . . . . . . . . . . 7\\n1.3.1 Overview . . . . . . . . . . . . . . . . . . . . . . . . . . 7\\n1.3.2 L ATEX. . . . . . . . . . . . . . . . . . . . . . . . . . . . 7\\n1.3.3 pdfL ATEX. . . . . . . . . . . . . . . . . . . . . . . . . . 7\\n1.3.4 Examples . . . . . . . . . . . . . . . . . . . . . . . . . . 7\\n3',\n",
       " '4 CONTENTS',\n",
       " 'Chapter 1\\nTemplate\\n1.1 How to compilea .texﬁleto a.pdfﬁle\\n1.1.1 Tools\\nTo processthe ﬁlesyou(may)need:\\n\\x0fpdflatex (for example from tetexpackage\\x150.9-6, which you can\\ngetfromRed Hat5.2 );\\n\\x0facroread (a PDFviewer,availablefrom http://www.adobe.com/ );\\n\\x0fghostscript\\x155.10(forexamplefrom RedHatContrib )andghostview\\norgv(fromRedHatLinux);\\n\\x0fefaxpackagecouldbe useful,ifyou plantofax documents.\\n1.1.2 How touse the tools\\nFollow thesesteps:\\n1.putallsource .texﬁlesinonedirectory,thenchdirtothedirectory(orput\\nsomeofthemin theL ATEXsearchpath—if youknowhowto dothis);\\n2.run“pdflatex file.tex ”onthemainﬁleofthedocumentthreetimes\\n(three—to preparevalidtable ofcontents);\\n3.to see or print the result use acroread (unfortunately some versions of\\nacroread mayproducePostScriptwhichistoo complex),or\\n5',\n",
       " '6 CHAPTER1. TEMPLATE\\n4.runghostscript : “gv file.pdf ” todisplayor:\\n“gs -dNOPAUSE -sDEVICE=pswrite -q -dBATCH -sOutputFile=ﬁle.ps ﬁle.pdf”\\nto produce a PostScriptﬁle;\\n5.run“fax send phone-number file.ps ”asroottosendafax,or—ifyou\\nknowhowtodothis—modifythe faxscripttobeabletofax .pdfﬁlesdirectly\\n(you have to insert“ |%PDF*” somewhere...).\\n1.2 How towrite adocument\\n1.2.1 Themain document\\nChoose the name of the document, say document . Copy template.tex to\\ndocument.tex , then edit it, change the title, the authors and set proper in-\\nclude(s)for allthechapters.\\n1.2.2 Chapters\\nEachchaptershouldbeincludedinthemaindocumentasaseparateﬁle. Youcan\\nchoose any name for the ﬁle, but we suggest adding a sufﬁx to the name of the\\nmainﬁle. Forour examplewe usetheﬁle name document_chapter1.tex .\\nFirst, copy template_chapter.tex todocument_chapter1.tex\\nandaddthe line\\n\\\\include{document_chapter1}\\ninthedocument.tex ,thenedit document_chapter1.tex ,changethe\\nchaptertitleand editthebody ofthechapterappropriately.\\n1.2.3 Spell-checking\\nDouse aspell-checker, please!\\nYou may also want to check grammar, style and so on. Actually you should\\ndoit (ifyou have enoughsparetime). But you mustcheckspelling!\\nYou can use the ispell package for this, from within emacs, or from the\\ncommandline:\\nispell -t document_chapter1.tex',\n",
       " '1.3. LATEX ANDPDFL ATEXCAPABILITIES 7\\n1.3 LATEX andpdfLATEX capabilities\\n1.3.1 Overview\\nFirst you edit your source .texﬁle. In L ATEX you compile it using the latex\\ncommand to a .dviﬁle (which stands for device-independent). The .dviﬁle\\ncan be converted to any device-dependent format you like using an appropriate\\ndriver, forexample dvips.\\nWhen producing .pdfﬁles you should use pdflatex , which produces di-\\nrectly.pdfﬁles out of .texsources. Note that in the .texﬁle you may need\\nto usesomePDFspeciﬁcpackages.\\nFor viewing .texﬁles use your favourite text editor, for viewing .dviﬁles\\nunder X Window System use xdvicommand, .psﬁles can be viewed with gv\\n(orghostview ) and.pdfﬁleswith acroread ,gvorxpdf.\\n1.3.2 LATEX\\nA lotof examplescanbe foundinthis document.\\nYoushouldalsoprint\\n\\x0fdoc/latex/general/latex2e.dvi and\\n\\x0fdoc/latex/general/lshort2e.dvi\\nfromyour tetexdistribution(usuallyin\\n\\x0f/usr/share/texmf or\\n\\x0f/usr/lib/texmf/texmf ).\\n1.3.3 pdfLATEX\\nConsult doc/pdftex/manual.pdf from your tetexdistribution for more\\ndetails. Veryusefulinformationscanbefoundinthe hyperref andgraphics\\npackagemanuals:\\n\\x0fdoc/latex/hyperref/manual.pdf and\\n\\x0fdoc/latex/graphics/grfguide.dvi .\\n1.3.4 Examples\\nReferences\\nMIMUW',\n",
       " '8 CHAPTER1. TEMPLATE\\nHyperlinks\\nThisisa target.\\nAndthisis alink.\\nDashes,etc.\\nTherearethreekindsof horizontaldash:\\n\\x0f- (useinsidewords;forexample“home-page”,“X-rated”)\\n\\x0f– (usethisonebetweennumbers;for example“pages2–22”)\\n\\x0f— (usethisoneas a sentenceseparator— like here)\\nNationalcharacters\\n\\x0fó, é,í, ...\\n\\x0fè, à,ì, ...\\n\\x0fô, ê,...\\n\\x0fõ, ñ,...\\n\\x0fö, ë,...\\n\\x0f˙ z\\n\\x0f˛ a, ˛ e\\n\\x0fł, ø,ß\\nThere are other ways to do this, see the documentation for inputenc pack-\\nage.\\nReserved characters\\nSome characters have some special meaning, thus cannot be entered in the usual\\nway.\\n\\x0f$ &% # _{ }\\n\\x0fn\\n\\x0f˜ ˆ',\n",
       " '1.3. LATEX ANDPDFL ATEXCAPABILITIES 9\\nMath\\n\\x0f12,12n, ...\\n\\x0fi1,i2n, ...\\n\\x0f1\\n2,2n\\n2\\x003,...\\n\\x0f\\x0b,\\x0c,\\r,\\n, ...\\n\\x0f!,),\\x15,6=,2,?, ...\\n\\x0fp\\n2, ...\\n\\x0f2 + 2, ...\\nFormoreexamplesandsymbolsseechapter3of lshort2e.dvi .\\nFonts\\n\\x0fRoman\\n\\x0fEmphasis\\n\\x0fMediumweight—the default\\n\\x0fBoldface\\n\\x0fUpright\\n\\x0fSlanted\\n\\x0fSansserif\\n\\x0fSMALL CAPS\\n\\x0fTypewriter\\n\\x0fandsizes:\\n–tiny\\n–scriptsize\\n–footnotesize\\n–small\\n–normalsize',\n",
       " '10 CHAPTER1. TEMPLATE\\n–large\\n–Large\\n–LARGE\\n–huge\\n–Huge',\n",
       " 'Sample PDF Document\\nRobertMaron\\nGrzegorz Grudzi ´nski\\nFebruary20, 1999',\n",
       " '2',\n",
       " 'Contents\\n1 Template 5\\n1.1 How tocompilea .texﬁleto a .pdfﬁle. . . . . . . . . . . . . 5\\n1.1.1 Tools . . . . . . . . . . . . . . . . . . . . . . . . . . . . 5\\n1.1.2 How to usethetools . . . . . . . . . . . . . . . . . . . . 5\\n1.2 How towritea document . . . . . . . . . . . . . . . . . . . . . . 6\\n1.2.1 Themaindocument . . . . . . . . . . . . . . . . . . . . . 6\\n1.2.2 Chapters . . . . . . . . . . . . . . . . . . . . . . . . . . 6\\n1.2.3 Spell-checking . . . . . . . . . . . . . . . . . . . . . . . 6\\n1.3 L ATEXand pdfL ATEXcapabilities . . . . . . . . . . . . . . . . . . . 7\\n1.3.1 Overview . . . . . . . . . . . . . . . . . . . . . . . . . . 7\\n1.3.2 L ATEX. . . . . . . . . . . . . . . . . . . . . . . . . . . . 7\\n1.3.3 pdfL ATEX. . . . . . . . . . . . . . . . . . . . . . . . . . 7\\n1.3.4 Examples . . . . . . . . . . . . . . . . . . . . . . . . . . 7\\n3',\n",
       " '4 CONTENTS',\n",
       " 'Chapter 1\\nTemplate\\n1.1 How to compilea .texﬁleto a.pdfﬁle\\n1.1.1 Tools\\nTo processthe ﬁlesyou(may)need:\\n\\x0fpdflatex (for example from tetexpackage\\x150.9-6, which you can\\ngetfromRed Hat5.2 );\\n\\x0facroread (a PDFviewer,availablefrom http://www.adobe.com/ );\\n\\x0fghostscript\\x155.10(forexamplefrom RedHatContrib )andghostview\\norgv(fromRedHatLinux);\\n\\x0fefaxpackagecouldbe useful,ifyou plantofax documents.\\n1.1.2 How touse the tools\\nFollow thesesteps:\\n1.putallsource .texﬁlesinonedirectory,thenchdirtothedirectory(orput\\nsomeofthemin theL ATEXsearchpath—if youknowhowto dothis);\\n2.run“pdflatex file.tex ”onthemainﬁleofthedocumentthreetimes\\n(three—to preparevalidtable ofcontents);\\n3.to see or print the result use acroread (unfortunately some versions of\\nacroread mayproducePostScriptwhichistoo complex),or\\n5',\n",
       " '6 CHAPTER1. TEMPLATE\\n4.runghostscript : “gv file.pdf ” todisplayor:\\n“gs -dNOPAUSE -sDEVICE=pswrite -q -dBATCH -sOutputFile=ﬁle.ps ﬁle.pdf”\\nto produce a PostScriptﬁle;\\n5.run“fax send phone-number file.ps ”asroottosendafax,or—ifyou\\nknowhowtodothis—modifythe faxscripttobeabletofax .pdfﬁlesdirectly\\n(you have to insert“ |%PDF*” somewhere...).\\n1.2 How towrite adocument\\n1.2.1 Themain document\\nChoose the name of the document, say document . Copy template.tex to\\ndocument.tex , then edit it, change the title, the authors and set proper in-\\nclude(s)for allthechapters.\\n1.2.2 Chapters\\nEachchaptershouldbeincludedinthemaindocumentasaseparateﬁle. Youcan\\nchoose any name for the ﬁle, but we suggest adding a sufﬁx to the name of the\\nmainﬁle. Forour examplewe usetheﬁle name document_chapter1.tex .\\nFirst, copy template_chapter.tex todocument_chapter1.tex\\nandaddthe line\\n\\\\include{document_chapter1}\\ninthedocument.tex ,thenedit document_chapter1.tex ,changethe\\nchaptertitleand editthebody ofthechapterappropriately.\\n1.2.3 Spell-checking\\nDouse aspell-checker, please!\\nYou may also want to check grammar, style and so on. Actually you should\\ndoit (ifyou have enoughsparetime). But you mustcheckspelling!\\nYou can use the ispell package for this, from within emacs, or from the\\ncommandline:\\nispell -t document_chapter1.tex',\n",
       " '1.3. LATEX ANDPDFL ATEXCAPABILITIES 7\\n1.3 LATEX andpdfLATEX capabilities\\n1.3.1 Overview\\nFirst you edit your source .texﬁle. In L ATEX you compile it using the latex\\ncommand to a .dviﬁle (which stands for device-independent). The .dviﬁle\\ncan be converted to any device-dependent format you like using an appropriate\\ndriver, forexample dvips.\\nWhen producing .pdfﬁles you should use pdflatex , which produces di-\\nrectly.pdfﬁles out of .texsources. Note that in the .texﬁle you may need\\nto usesomePDFspeciﬁcpackages.\\nFor viewing .texﬁles use your favourite text editor, for viewing .dviﬁles\\nunder X Window System use xdvicommand, .psﬁles can be viewed with gv\\n(orghostview ) and.pdfﬁleswith acroread ,gvorxpdf.\\n1.3.2 LATEX\\nA lotof examplescanbe foundinthis document.\\nYoushouldalsoprint\\n\\x0fdoc/latex/general/latex2e.dvi and\\n\\x0fdoc/latex/general/lshort2e.dvi\\nfromyour tetexdistribution(usuallyin\\n\\x0f/usr/share/texmf or\\n\\x0f/usr/lib/texmf/texmf ).\\n1.3.3 pdfLATEX\\nConsult doc/pdftex/manual.pdf from your tetexdistribution for more\\ndetails. Veryusefulinformationscanbefoundinthe hyperref andgraphics\\npackagemanuals:\\n\\x0fdoc/latex/hyperref/manual.pdf and\\n\\x0fdoc/latex/graphics/grfguide.dvi .\\n1.3.4 Examples\\nReferences\\nMIMUW',\n",
       " '8 CHAPTER1. TEMPLATE\\nHyperlinks\\nThisisa target.\\nAndthisis alink.\\nDashes,etc.\\nTherearethreekindsof horizontaldash:\\n\\x0f- (useinsidewords;forexample“home-page”,“X-rated”)\\n\\x0f– (usethisonebetweennumbers;for example“pages2–22”)\\n\\x0f— (usethisoneas a sentenceseparator— like here)\\nNationalcharacters\\n\\x0fó, é,í, ...\\n\\x0fè, à,ì, ...\\n\\x0fô, ê,...\\n\\x0fõ, ñ,...\\n\\x0fö, ë,...\\n\\x0f˙ z\\n\\x0f˛ a, ˛ e\\n\\x0fł, ø,ß\\nThere are other ways to do this, see the documentation for inputenc pack-\\nage.\\nReserved characters\\nSome characters have some special meaning, thus cannot be entered in the usual\\nway.\\n\\x0f$ &% # _{ }\\n\\x0fn\\n\\x0f˜ ˆ',\n",
       " '1.3. LATEX ANDPDFL ATEXCAPABILITIES 9\\nMath\\n\\x0f12,12n, ...\\n\\x0fi1,i2n, ...\\n\\x0f1\\n2,2n\\n2\\x003,...\\n\\x0f\\x0b,\\x0c,\\r,\\n, ...\\n\\x0f!,),\\x15,6=,2,?, ...\\n\\x0fp\\n2, ...\\n\\x0f2 + 2, ...\\nFormoreexamplesandsymbolsseechapter3of lshort2e.dvi .\\nFonts\\n\\x0fRoman\\n\\x0fEmphasis\\n\\x0fMediumweight—the default\\n\\x0fBoldface\\n\\x0fUpright\\n\\x0fSlanted\\n\\x0fSansserif\\n\\x0fSMALL CAPS\\n\\x0fTypewriter\\n\\x0fandsizes:\\n–tiny\\n–scriptsize\\n–footnotesize\\n–small\\n–normalsize',\n",
       " '10 CHAPTER1. TEMPLATE\\n–large\\n–Large\\n–LARGE\\n–huge\\n–Huge']"
      ]
     },
     "execution_count": 84,
     "metadata": {},
     "output_type": "execute_result"
    }
   ],
   "source": [
    "pdf_text"
   ]
  },
  {
   "cell_type": "code",
   "execution_count": 86,
   "id": "e0ea29d9",
   "metadata": {},
   "outputs": [
    {
     "data": {
      "text/plain": [
       "10"
      ]
     },
     "execution_count": 86,
     "metadata": {},
     "output_type": "execute_result"
    }
   ],
   "source": [
    "len(pdf_reader.pages)"
   ]
  },
  {
   "cell_type": "code",
   "execution_count": 87,
   "id": "4d9a995e",
   "metadata": {},
   "outputs": [
    {
     "name": "stdout",
     "output_type": "stream",
     "text": [
      "Sample PDF Document\n",
      "RobertMaron\n",
      "Grzegorz Grudzi ´nski\n",
      "February20, 1999\n",
      "\n",
      "\n",
      "\n",
      "\n",
      "\n",
      "\n",
      "\n",
      "\n",
      "2\n",
      "\n",
      "\n",
      "\n",
      "\n",
      "\n",
      "\n",
      "\n",
      "\n",
      "Contents\n",
      "1 Template 5\n",
      "1.1 How tocompilea .texﬁleto a .pdfﬁle. . . . . . . . . . . . . 5\n",
      "1.1.1 Tools . . . . . . . . . . . . . . . . . . . . . . . . . . . . 5\n",
      "1.1.2 How to usethetools . . . . . . . . . . . . . . . . . . . . 5\n",
      "1.2 How towritea document . . . . . . . . . . . . . . . . . . . . . . 6\n",
      "1.2.1 Themaindocument . . . . . . . . . . . . . . . . . . . . . 6\n",
      "1.2.2 Chapters . . . . . . . . . . . . . . . . . . . . . . . . . . 6\n",
      "1.2.3 Spell-checking . . . . . . . . . . . . . . . . . . . . . . . 6\n",
      "1.3 L ATEXand pdfL ATEXcapabilities . . . . . . . . . . . . . . . . . . . 7\n",
      "1.3.1 Overview . . . . . . . . . . . . . . . . . . . . . . . . . . 7\n",
      "1.3.2 L ATEX. . . . . . . . . . . . . . . . . . . . . . . . . . . . 7\n",
      "1.3.3 pdfL ATEX. . . . . . . . . . . . . . . . . . . . . . . . . . 7\n",
      "1.3.4 Examples . . . . . . . . . . . . . . . . . . . . . . . . . . 7\n",
      "3\n",
      "\n",
      "\n",
      "\n",
      "\n",
      "\n",
      "\n",
      "\n",
      "\n",
      "4 CONTENTS\n",
      "\n",
      "\n",
      "\n",
      "\n",
      "\n",
      "\n",
      "\n",
      "\n",
      "Chapter 1\n",
      "Template\n",
      "1.1 How to compilea .texﬁleto a.pdfﬁle\n",
      "1.1.1 Tools\n",
      "To processthe ﬁlesyou(may)need:\n",
      "\u000fpdflatex (for example from tetexpackage\u00150.9-6, which you can\n",
      "getfromRed Hat5.2 );\n",
      "\u000facroread (a PDFviewer,availablefrom http://www.adobe.com/ );\n",
      "\u000fghostscript\u00155.10(forexamplefrom RedHatContrib )andghostview\n",
      "orgv(fromRedHatLinux);\n",
      "\u000fefaxpackagecouldbe useful,ifyou plantofax documents.\n",
      "1.1.2 How touse the tools\n",
      "Follow thesesteps:\n",
      "1.putallsource .texﬁlesinonedirectory,thenchdirtothedirectory(orput\n",
      "someofthemin theL ATEXsearchpath—if youknowhowto dothis);\n",
      "2.run“pdflatex file.tex ”onthemainﬁleofthedocumentthreetimes\n",
      "(three—to preparevalidtable ofcontents);\n",
      "3.to see or print the result use acroread (unfortunately some versions of\n",
      "acroread mayproducePostScriptwhichistoo complex),or\n",
      "5\n",
      "\n",
      "\n",
      "\n",
      "\n",
      "\n",
      "\n",
      "\n",
      "\n",
      "6 CHAPTER1. TEMPLATE\n",
      "4.runghostscript : “gv file.pdf ” todisplayor:\n",
      "“gs -dNOPAUSE -sDEVICE=pswrite -q -dBATCH -sOutputFile=ﬁle.ps ﬁle.pdf”\n",
      "to produce a PostScriptﬁle;\n",
      "5.run“fax send phone-number file.ps ”asroottosendafax,or—ifyou\n",
      "knowhowtodothis—modifythe faxscripttobeabletofax .pdfﬁlesdirectly\n",
      "(you have to insert“ |%PDF*” somewhere...).\n",
      "1.2 How towrite adocument\n",
      "1.2.1 Themain document\n",
      "Choose the name of the document, say document . Copy template.tex to\n",
      "document.tex , then edit it, change the title, the authors and set proper in-\n",
      "clude(s)for allthechapters.\n",
      "1.2.2 Chapters\n",
      "Eachchaptershouldbeincludedinthemaindocumentasaseparateﬁle. Youcan\n",
      "choose any name for the ﬁle, but we suggest adding a sufﬁx to the name of the\n",
      "mainﬁle. Forour examplewe usetheﬁle name document_chapter1.tex .\n",
      "First, copy template_chapter.tex todocument_chapter1.tex\n",
      "andaddthe line\n",
      "\\include{document_chapter1}\n",
      "inthedocument.tex ,thenedit document_chapter1.tex ,changethe\n",
      "chaptertitleand editthebody ofthechapterappropriately.\n",
      "1.2.3 Spell-checking\n",
      "Douse aspell-checker, please!\n",
      "You may also want to check grammar, style and so on. Actually you should\n",
      "doit (ifyou have enoughsparetime). But you mustcheckspelling!\n",
      "You can use the ispell package for this, from within emacs, or from the\n",
      "commandline:\n",
      "ispell -t document_chapter1.tex\n",
      "\n",
      "\n",
      "\n",
      "\n",
      "\n",
      "\n",
      "\n",
      "\n",
      "1.3. LATEX ANDPDFL ATEXCAPABILITIES 7\n",
      "1.3 LATEX andpdfLATEX capabilities\n",
      "1.3.1 Overview\n",
      "First you edit your source .texﬁle. In L ATEX you compile it using the latex\n",
      "command to a .dviﬁle (which stands for device-independent). The .dviﬁle\n",
      "can be converted to any device-dependent format you like using an appropriate\n",
      "driver, forexample dvips.\n",
      "When producing .pdfﬁles you should use pdflatex , which produces di-\n",
      "rectly.pdfﬁles out of .texsources. Note that in the .texﬁle you may need\n",
      "to usesomePDFspeciﬁcpackages.\n",
      "For viewing .texﬁles use your favourite text editor, for viewing .dviﬁles\n",
      "under X Window System use xdvicommand, .psﬁles can be viewed with gv\n",
      "(orghostview ) and.pdfﬁleswith acroread ,gvorxpdf.\n",
      "1.3.2 LATEX\n",
      "A lotof examplescanbe foundinthis document.\n",
      "Youshouldalsoprint\n",
      "\u000fdoc/latex/general/latex2e.dvi and\n",
      "\u000fdoc/latex/general/lshort2e.dvi\n",
      "fromyour tetexdistribution(usuallyin\n",
      "\u000f/usr/share/texmf or\n",
      "\u000f/usr/lib/texmf/texmf ).\n",
      "1.3.3 pdfLATEX\n",
      "Consult doc/pdftex/manual.pdf from your tetexdistribution for more\n",
      "details. Veryusefulinformationscanbefoundinthe hyperref andgraphics\n",
      "packagemanuals:\n",
      "\u000fdoc/latex/hyperref/manual.pdf and\n",
      "\u000fdoc/latex/graphics/grfguide.dvi .\n",
      "1.3.4 Examples\n",
      "References\n",
      "MIMUW\n",
      "\n",
      "\n",
      "\n",
      "\n",
      "\n",
      "\n",
      "\n",
      "\n",
      "8 CHAPTER1. TEMPLATE\n",
      "Hyperlinks\n",
      "Thisisa target.\n",
      "Andthisis alink.\n",
      "Dashes,etc.\n",
      "Therearethreekindsof horizontaldash:\n",
      "\u000f- (useinsidewords;forexample“home-page”,“X-rated”)\n",
      "\u000f– (usethisonebetweennumbers;for example“pages2–22”)\n",
      "\u000f— (usethisoneas a sentenceseparator— like here)\n",
      "Nationalcharacters\n",
      "\u000fó, é,í, ...\n",
      "\u000fè, à,ì, ...\n",
      "\u000fô, ê,...\n",
      "\u000fõ, ñ,...\n",
      "\u000fö, ë,...\n",
      "\u000f˙ z\n",
      "\u000f˛ a, ˛ e\n",
      "\u000fł, ø,ß\n",
      "There are other ways to do this, see the documentation for inputenc pack-\n",
      "age.\n",
      "Reserved characters\n",
      "Some characters have some special meaning, thus cannot be entered in the usual\n",
      "way.\n",
      "\u000f$ &% # _{ }\n",
      "\u000fn\n",
      "\u000f˜ ˆ\n",
      "\n",
      "\n",
      "\n",
      "\n",
      "\n",
      "\n",
      "\n",
      "\n",
      "1.3. LATEX ANDPDFL ATEXCAPABILITIES 9\n",
      "Math\n",
      "\u000f12,12n, ...\n",
      "\u000fi1,i2n, ...\n",
      "\u000f1\n",
      "2,2n\n",
      "2\u00003,...\n",
      "\u000f\u000b",
      ",\f",
      ",\r",
      ",\n",
      ", ...\n",
      "\u000f!,),\u0015,6=,2,?, ...\n",
      "\u000fp\n",
      "2, ...\n",
      "\u000f2 + 2, ...\n",
      "Formoreexamplesandsymbolsseechapter3of lshort2e.dvi .\n",
      "Fonts\n",
      "\u000fRoman\n",
      "\u000fEmphasis\n",
      "\u000fMediumweight—the default\n",
      "\u000fBoldface\n",
      "\u000fUpright\n",
      "\u000fSlanted\n",
      "\u000fSansserif\n",
      "\u000fSMALL CAPS\n",
      "\u000fTypewriter\n",
      "\u000fandsizes:\n",
      "–tiny\n",
      "–scriptsize\n",
      "–footnotesize\n",
      "–small\n",
      "–normalsize\n",
      "\n",
      "\n",
      "\n",
      "\n",
      "\n",
      "\n",
      "\n",
      "\n",
      "10 CHAPTER1. TEMPLATE\n",
      "–large\n",
      "–Large\n",
      "–LARGE\n",
      "–huge\n",
      "–Huge\n",
      "\n",
      "\n",
      "\n",
      "\n",
      "\n",
      "\n",
      "\n",
      "\n",
      "Sample PDF Document\n",
      "RobertMaron\n",
      "Grzegorz Grudzi ´nski\n",
      "February20, 1999\n",
      "\n",
      "\n",
      "\n",
      "\n",
      "\n",
      "\n",
      "\n",
      "\n",
      "2\n",
      "\n",
      "\n",
      "\n",
      "\n",
      "\n",
      "\n",
      "\n",
      "\n",
      "Contents\n",
      "1 Template 5\n",
      "1.1 How tocompilea .texﬁleto a .pdfﬁle. . . . . . . . . . . . . 5\n",
      "1.1.1 Tools . . . . . . . . . . . . . . . . . . . . . . . . . . . . 5\n",
      "1.1.2 How to usethetools . . . . . . . . . . . . . . . . . . . . 5\n",
      "1.2 How towritea document . . . . . . . . . . . . . . . . . . . . . . 6\n",
      "1.2.1 Themaindocument . . . . . . . . . . . . . . . . . . . . . 6\n",
      "1.2.2 Chapters . . . . . . . . . . . . . . . . . . . . . . . . . . 6\n",
      "1.2.3 Spell-checking . . . . . . . . . . . . . . . . . . . . . . . 6\n",
      "1.3 L ATEXand pdfL ATEXcapabilities . . . . . . . . . . . . . . . . . . . 7\n",
      "1.3.1 Overview . . . . . . . . . . . . . . . . . . . . . . . . . . 7\n",
      "1.3.2 L ATEX. . . . . . . . . . . . . . . . . . . . . . . . . . . . 7\n",
      "1.3.3 pdfL ATEX. . . . . . . . . . . . . . . . . . . . . . . . . . 7\n",
      "1.3.4 Examples . . . . . . . . . . . . . . . . . . . . . . . . . . 7\n",
      "3\n",
      "\n",
      "\n",
      "\n",
      "\n",
      "\n",
      "\n",
      "\n",
      "\n",
      "4 CONTENTS\n",
      "\n",
      "\n",
      "\n",
      "\n",
      "\n",
      "\n",
      "\n",
      "\n",
      "Chapter 1\n",
      "Template\n",
      "1.1 How to compilea .texﬁleto a.pdfﬁle\n",
      "1.1.1 Tools\n",
      "To processthe ﬁlesyou(may)need:\n",
      "\u000fpdflatex (for example from tetexpackage\u00150.9-6, which you can\n",
      "getfromRed Hat5.2 );\n",
      "\u000facroread (a PDFviewer,availablefrom http://www.adobe.com/ );\n",
      "\u000fghostscript\u00155.10(forexamplefrom RedHatContrib )andghostview\n",
      "orgv(fromRedHatLinux);\n",
      "\u000fefaxpackagecouldbe useful,ifyou plantofax documents.\n",
      "1.1.2 How touse the tools\n",
      "Follow thesesteps:\n",
      "1.putallsource .texﬁlesinonedirectory,thenchdirtothedirectory(orput\n",
      "someofthemin theL ATEXsearchpath—if youknowhowto dothis);\n",
      "2.run“pdflatex file.tex ”onthemainﬁleofthedocumentthreetimes\n",
      "(three—to preparevalidtable ofcontents);\n",
      "3.to see or print the result use acroread (unfortunately some versions of\n",
      "acroread mayproducePostScriptwhichistoo complex),or\n",
      "5\n",
      "\n",
      "\n",
      "\n",
      "\n",
      "\n",
      "\n",
      "\n",
      "\n",
      "6 CHAPTER1. TEMPLATE\n",
      "4.runghostscript : “gv file.pdf ” todisplayor:\n",
      "“gs -dNOPAUSE -sDEVICE=pswrite -q -dBATCH -sOutputFile=ﬁle.ps ﬁle.pdf”\n",
      "to produce a PostScriptﬁle;\n",
      "5.run“fax send phone-number file.ps ”asroottosendafax,or—ifyou\n",
      "knowhowtodothis—modifythe faxscripttobeabletofax .pdfﬁlesdirectly\n",
      "(you have to insert“ |%PDF*” somewhere...).\n",
      "1.2 How towrite adocument\n",
      "1.2.1 Themain document\n",
      "Choose the name of the document, say document . Copy template.tex to\n",
      "document.tex , then edit it, change the title, the authors and set proper in-\n",
      "clude(s)for allthechapters.\n",
      "1.2.2 Chapters\n",
      "Eachchaptershouldbeincludedinthemaindocumentasaseparateﬁle. Youcan\n",
      "choose any name for the ﬁle, but we suggest adding a sufﬁx to the name of the\n",
      "mainﬁle. Forour examplewe usetheﬁle name document_chapter1.tex .\n",
      "First, copy template_chapter.tex todocument_chapter1.tex\n",
      "andaddthe line\n",
      "\\include{document_chapter1}\n",
      "inthedocument.tex ,thenedit document_chapter1.tex ,changethe\n",
      "chaptertitleand editthebody ofthechapterappropriately.\n",
      "1.2.3 Spell-checking\n",
      "Douse aspell-checker, please!\n",
      "You may also want to check grammar, style and so on. Actually you should\n",
      "doit (ifyou have enoughsparetime). But you mustcheckspelling!\n",
      "You can use the ispell package for this, from within emacs, or from the\n",
      "commandline:\n",
      "ispell -t document_chapter1.tex\n",
      "\n",
      "\n",
      "\n",
      "\n",
      "\n",
      "\n",
      "\n",
      "\n",
      "1.3. LATEX ANDPDFL ATEXCAPABILITIES 7\n",
      "1.3 LATEX andpdfLATEX capabilities\n",
      "1.3.1 Overview\n",
      "First you edit your source .texﬁle. In L ATEX you compile it using the latex\n",
      "command to a .dviﬁle (which stands for device-independent). The .dviﬁle\n",
      "can be converted to any device-dependent format you like using an appropriate\n",
      "driver, forexample dvips.\n",
      "When producing .pdfﬁles you should use pdflatex , which produces di-\n",
      "rectly.pdfﬁles out of .texsources. Note that in the .texﬁle you may need\n",
      "to usesomePDFspeciﬁcpackages.\n",
      "For viewing .texﬁles use your favourite text editor, for viewing .dviﬁles\n",
      "under X Window System use xdvicommand, .psﬁles can be viewed with gv\n",
      "(orghostview ) and.pdfﬁleswith acroread ,gvorxpdf.\n",
      "1.3.2 LATEX\n",
      "A lotof examplescanbe foundinthis document.\n",
      "Youshouldalsoprint\n",
      "\u000fdoc/latex/general/latex2e.dvi and\n",
      "\u000fdoc/latex/general/lshort2e.dvi\n",
      "fromyour tetexdistribution(usuallyin\n",
      "\u000f/usr/share/texmf or\n",
      "\u000f/usr/lib/texmf/texmf ).\n",
      "1.3.3 pdfLATEX\n",
      "Consult doc/pdftex/manual.pdf from your tetexdistribution for more\n",
      "details. Veryusefulinformationscanbefoundinthe hyperref andgraphics\n",
      "packagemanuals:\n",
      "\u000fdoc/latex/hyperref/manual.pdf and\n",
      "\u000fdoc/latex/graphics/grfguide.dvi .\n",
      "1.3.4 Examples\n",
      "References\n",
      "MIMUW\n",
      "\n",
      "\n",
      "\n",
      "\n",
      "\n",
      "\n",
      "\n",
      "\n",
      "8 CHAPTER1. TEMPLATE\n",
      "Hyperlinks\n",
      "Thisisa target.\n",
      "Andthisis alink.\n",
      "Dashes,etc.\n",
      "Therearethreekindsof horizontaldash:\n",
      "\u000f- (useinsidewords;forexample“home-page”,“X-rated”)\n",
      "\u000f– (usethisonebetweennumbers;for example“pages2–22”)\n",
      "\u000f— (usethisoneas a sentenceseparator— like here)\n",
      "Nationalcharacters\n",
      "\u000fó, é,í, ...\n",
      "\u000fè, à,ì, ...\n",
      "\u000fô, ê,...\n",
      "\u000fõ, ñ,...\n",
      "\u000fö, ë,...\n",
      "\u000f˙ z\n",
      "\u000f˛ a, ˛ e\n",
      "\u000fł, ø,ß\n",
      "There are other ways to do this, see the documentation for inputenc pack-\n",
      "age.\n",
      "Reserved characters\n",
      "Some characters have some special meaning, thus cannot be entered in the usual\n",
      "way.\n",
      "\u000f$ &% # _{ }\n",
      "\u000fn\n",
      "\u000f˜ ˆ\n",
      "\n",
      "\n",
      "\n",
      "\n",
      "\n",
      "\n",
      "\n",
      "\n",
      "1.3. LATEX ANDPDFL ATEXCAPABILITIES 9\n",
      "Math\n",
      "\u000f12,12n, ...\n",
      "\u000fi1,i2n, ...\n",
      "\u000f1\n",
      "2,2n\n",
      "2\u00003,...\n",
      "\u000f\u000b",
      ",\f",
      ",\r",
      ",\n",
      ", ...\n",
      "\u000f!,),\u0015,6=,2,?, ...\n",
      "\u000fp\n",
      "2, ...\n",
      "\u000f2 + 2, ...\n",
      "Formoreexamplesandsymbolsseechapter3of lshort2e.dvi .\n",
      "Fonts\n",
      "\u000fRoman\n",
      "\u000fEmphasis\n",
      "\u000fMediumweight—the default\n",
      "\u000fBoldface\n",
      "\u000fUpright\n",
      "\u000fSlanted\n",
      "\u000fSansserif\n",
      "\u000fSMALL CAPS\n",
      "\u000fTypewriter\n",
      "\u000fandsizes:\n",
      "–tiny\n",
      "–scriptsize\n",
      "–footnotesize\n",
      "–small\n",
      "–normalsize\n",
      "\n",
      "\n",
      "\n",
      "\n",
      "\n",
      "\n",
      "\n",
      "\n",
      "10 CHAPTER1. TEMPLATE\n",
      "–large\n",
      "–Large\n",
      "–LARGE\n",
      "–huge\n",
      "–Huge\n",
      "\n",
      "\n",
      "\n",
      "\n",
      "\n",
      "\n",
      "\n",
      "\n"
     ]
    }
   ],
   "source": [
    "for page in pdf_text:\n",
    "    print(page)\n",
    "    print('\\n')\n",
    "    print('\\n')\n",
    "    print('\\n')\n",
    "    print('\\n')\n",
    "    "
   ]
  },
  {
   "cell_type": "markdown",
   "id": "e17c8ef5",
   "metadata": {},
   "source": [
    "# Practice"
   ]
  },
  {
   "cell_type": "code",
   "execution_count": 88,
   "id": "4c13c5b4",
   "metadata": {},
   "outputs": [],
   "source": [
    "file = open(\"test1.pdf\",mode = 'rb')"
   ]
  },
  {
   "cell_type": "code",
   "execution_count": 89,
   "id": "d5aca5a6",
   "metadata": {},
   "outputs": [],
   "source": [
    "pdf_read = PyPDF2.PdfReader(file)"
   ]
  },
  {
   "cell_type": "code",
   "execution_count": 98,
   "id": "c3bb2339",
   "metadata": {},
   "outputs": [],
   "source": [
    "page5 = pdf_read.pages[5]"
   ]
  },
  {
   "cell_type": "code",
   "execution_count": 99,
   "id": "a95f9606",
   "metadata": {},
   "outputs": [
    {
     "data": {
      "text/plain": [
       "10"
      ]
     },
     "execution_count": 99,
     "metadata": {},
     "output_type": "execute_result"
    }
   ],
   "source": [
    "len(pdf_read.pages)"
   ]
  },
  {
   "cell_type": "code",
   "execution_count": 100,
   "id": "54429b6f",
   "metadata": {},
   "outputs": [
    {
     "data": {
      "text/plain": [
       "'6 CHAPTER1. TEMPLATE\\n4.runghostscript : “gv file.pdf ” todisplayor:\\n“gs -dNOPAUSE -sDEVICE=pswrite -q -dBATCH -sOutputFile=ﬁle.ps ﬁle.pdf”\\nto produce a PostScriptﬁle;\\n5.run“fax send phone-number file.ps ”asroottosendafax,or—ifyou\\nknowhowtodothis—modifythe faxscripttobeabletofax .pdfﬁlesdirectly\\n(you have to insert“ |%PDF*” somewhere...).\\n1.2 How towrite adocument\\n1.2.1 Themain document\\nChoose the name of the document, say document . Copy template.tex to\\ndocument.tex , then edit it, change the title, the authors and set proper in-\\nclude(s)for allthechapters.\\n1.2.2 Chapters\\nEachchaptershouldbeincludedinthemaindocumentasaseparateﬁle. Youcan\\nchoose any name for the ﬁle, but we suggest adding a sufﬁx to the name of the\\nmainﬁle. Forour examplewe usetheﬁle name document_chapter1.tex .\\nFirst, copy template_chapter.tex todocument_chapter1.tex\\nandaddthe line\\n\\\\include{document_chapter1}\\ninthedocument.tex ,thenedit document_chapter1.tex ,changethe\\nchaptertitleand editthebody ofthechapterappropriately.\\n1.2.3 Spell-checking\\nDouse aspell-checker, please!\\nYou may also want to check grammar, style and so on. Actually you should\\ndoit (ifyou have enoughsparetime). But you mustcheckspelling!\\nYou can use the ispell package for this, from within emacs, or from the\\ncommandline:\\nispell -t document_chapter1.tex'"
      ]
     },
     "execution_count": 100,
     "metadata": {},
     "output_type": "execute_result"
    }
   ],
   "source": [
    "page5.extract_text()"
   ]
  },
  {
   "cell_type": "code",
   "execution_count": 101,
   "id": "6ce1bd89",
   "metadata": {},
   "outputs": [],
   "source": [
    "pdf_write = PyPDF2.PdfWriter(page5)"
   ]
  },
  {
   "cell_type": "code",
   "execution_count": 102,
   "id": "52c700b0",
   "metadata": {},
   "outputs": [
    {
     "data": {
      "text/plain": [
       "10"
      ]
     },
     "execution_count": 102,
     "metadata": {},
     "output_type": "execute_result"
    }
   ],
   "source": [
    "len(pdf_read.pages)"
   ]
  },
  {
   "cell_type": "code",
   "execution_count": null,
   "id": "e2674d7b",
   "metadata": {},
   "outputs": [],
   "source": []
  }
 ],
 "metadata": {
  "kernelspec": {
   "display_name": "Python 3 (ipykernel)",
   "language": "python",
   "name": "python3"
  },
  "language_info": {
   "codemirror_mode": {
    "name": "ipython",
    "version": 3
   },
   "file_extension": ".py",
   "mimetype": "text/x-python",
   "name": "python",
   "nbconvert_exporter": "python",
   "pygments_lexer": "ipython3",
   "version": "3.7.16"
  }
 },
 "nbformat": 4,
 "nbformat_minor": 5
}
